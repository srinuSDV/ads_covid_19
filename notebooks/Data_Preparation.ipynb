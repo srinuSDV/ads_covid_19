{
 "cells": [
  {
   "cell_type": "code",
   "execution_count": 110,
   "metadata": {
    "pycharm": {
     "name": "#%%\n"
    }
   },
   "outputs": [],
   "source": [
    "import os\n",
    "\n",
    "import numpy as np\n",
    "import pandas as pd\n",
    "from datetime import datetime\n",
    "import matplotlib\n",
    "%matplotlib inline\n",
    "pd.set_option('display.max_rows', 500)"
   ]
  },
  {
   "cell_type": "code",
   "execution_count": 111,
   "metadata": {
    "pycharm": {
     "name": "#%%\n"
    }
   },
   "outputs": [
    {
     "data": {
      "text/plain": "  Province/State Country/Region       Lat       Long  1/22/20  1/23/20  \\\n0            NaN    Afghanistan  33.93911  67.709953        0        0   \n1            NaN        Albania  41.15330  20.168300        0        0   \n2            NaN        Algeria  28.03390   1.659600        0        0   \n3            NaN        Andorra  42.50630   1.521800        0        0   \n4            NaN         Angola -11.20270  17.873900        0        0   \n\n   1/24/20  1/25/20  1/26/20  1/27/20  ...  5/16/22  5/17/22  5/18/22  \\\n0        0        0        0        0  ...   179321   179328   179477   \n1        0        0        0        0  ...   275621   275688   275732   \n2        0        0        0        0  ...   265823   265828   265834   \n3        0        0        0        0  ...    42156    42156    42572   \n4        0        0        0        0  ...    99287    99287    99287   \n\n   5/19/22  5/20/22  5/21/22  5/22/22  5/23/22  5/24/22  5/25/22  \n0   179597   179624   179674   179716   179716   179771   179835  \n1   275732   275732   275838   275864   275881   275939   275985  \n2   265841   265847   265851   265854   265855   265860   265862  \n3    42572    42572    42572    42572    42572    42572    42894  \n4    99287    99287    99287    99287    99287    99433    99527  \n\n[5 rows x 859 columns]",
      "text/html": "<div>\n<style scoped>\n    .dataframe tbody tr th:only-of-type {\n        vertical-align: middle;\n    }\n\n    .dataframe tbody tr th {\n        vertical-align: top;\n    }\n\n    .dataframe thead th {\n        text-align: right;\n    }\n</style>\n<table border=\"1\" class=\"dataframe\">\n  <thead>\n    <tr style=\"text-align: right;\">\n      <th></th>\n      <th>Province/State</th>\n      <th>Country/Region</th>\n      <th>Lat</th>\n      <th>Long</th>\n      <th>1/22/20</th>\n      <th>1/23/20</th>\n      <th>1/24/20</th>\n      <th>1/25/20</th>\n      <th>1/26/20</th>\n      <th>1/27/20</th>\n      <th>...</th>\n      <th>5/16/22</th>\n      <th>5/17/22</th>\n      <th>5/18/22</th>\n      <th>5/19/22</th>\n      <th>5/20/22</th>\n      <th>5/21/22</th>\n      <th>5/22/22</th>\n      <th>5/23/22</th>\n      <th>5/24/22</th>\n      <th>5/25/22</th>\n    </tr>\n  </thead>\n  <tbody>\n    <tr>\n      <th>0</th>\n      <td>NaN</td>\n      <td>Afghanistan</td>\n      <td>33.93911</td>\n      <td>67.709953</td>\n      <td>0</td>\n      <td>0</td>\n      <td>0</td>\n      <td>0</td>\n      <td>0</td>\n      <td>0</td>\n      <td>...</td>\n      <td>179321</td>\n      <td>179328</td>\n      <td>179477</td>\n      <td>179597</td>\n      <td>179624</td>\n      <td>179674</td>\n      <td>179716</td>\n      <td>179716</td>\n      <td>179771</td>\n      <td>179835</td>\n    </tr>\n    <tr>\n      <th>1</th>\n      <td>NaN</td>\n      <td>Albania</td>\n      <td>41.15330</td>\n      <td>20.168300</td>\n      <td>0</td>\n      <td>0</td>\n      <td>0</td>\n      <td>0</td>\n      <td>0</td>\n      <td>0</td>\n      <td>...</td>\n      <td>275621</td>\n      <td>275688</td>\n      <td>275732</td>\n      <td>275732</td>\n      <td>275732</td>\n      <td>275838</td>\n      <td>275864</td>\n      <td>275881</td>\n      <td>275939</td>\n      <td>275985</td>\n    </tr>\n    <tr>\n      <th>2</th>\n      <td>NaN</td>\n      <td>Algeria</td>\n      <td>28.03390</td>\n      <td>1.659600</td>\n      <td>0</td>\n      <td>0</td>\n      <td>0</td>\n      <td>0</td>\n      <td>0</td>\n      <td>0</td>\n      <td>...</td>\n      <td>265823</td>\n      <td>265828</td>\n      <td>265834</td>\n      <td>265841</td>\n      <td>265847</td>\n      <td>265851</td>\n      <td>265854</td>\n      <td>265855</td>\n      <td>265860</td>\n      <td>265862</td>\n    </tr>\n    <tr>\n      <th>3</th>\n      <td>NaN</td>\n      <td>Andorra</td>\n      <td>42.50630</td>\n      <td>1.521800</td>\n      <td>0</td>\n      <td>0</td>\n      <td>0</td>\n      <td>0</td>\n      <td>0</td>\n      <td>0</td>\n      <td>...</td>\n      <td>42156</td>\n      <td>42156</td>\n      <td>42572</td>\n      <td>42572</td>\n      <td>42572</td>\n      <td>42572</td>\n      <td>42572</td>\n      <td>42572</td>\n      <td>42572</td>\n      <td>42894</td>\n    </tr>\n    <tr>\n      <th>4</th>\n      <td>NaN</td>\n      <td>Angola</td>\n      <td>-11.20270</td>\n      <td>17.873900</td>\n      <td>0</td>\n      <td>0</td>\n      <td>0</td>\n      <td>0</td>\n      <td>0</td>\n      <td>0</td>\n      <td>...</td>\n      <td>99287</td>\n      <td>99287</td>\n      <td>99287</td>\n      <td>99287</td>\n      <td>99287</td>\n      <td>99287</td>\n      <td>99287</td>\n      <td>99287</td>\n      <td>99433</td>\n      <td>99527</td>\n    </tr>\n  </tbody>\n</table>\n<p>5 rows × 859 columns</p>\n</div>"
     },
     "execution_count": 111,
     "metadata": {},
     "output_type": "execute_result"
    }
   ],
   "source": [
    "script_path = os.getcwd()\n",
    "# print(script_path)\n",
    "data_path= os.path.join(script_path, r\"..\\data\\raw\\time_series_covid19_confirmed_global.csv\")\n",
    "# print(os.listdir(data_path))\n",
    "pd_raw=pd.read_csv(data_path)\n",
    "pd_raw.head()"
   ]
  },
  {
   "cell_type": "code",
   "execution_count": 112,
   "outputs": [],
   "source": [
    "time_idx = pd_raw.columns[4:]"
   ],
   "metadata": {
    "collapsed": false,
    "pycharm": {
     "name": "#%%\n"
    }
   }
  },
  {
   "cell_type": "code",
   "execution_count": 113,
   "outputs": [
    {
     "data": {
      "text/plain": "      date\n0  1/22/20\n1  1/23/20\n2  1/24/20\n3  1/25/20\n4  1/26/20",
      "text/html": "<div>\n<style scoped>\n    .dataframe tbody tr th:only-of-type {\n        vertical-align: middle;\n    }\n\n    .dataframe tbody tr th {\n        vertical-align: top;\n    }\n\n    .dataframe thead th {\n        text-align: right;\n    }\n</style>\n<table border=\"1\" class=\"dataframe\">\n  <thead>\n    <tr style=\"text-align: right;\">\n      <th></th>\n      <th>date</th>\n    </tr>\n  </thead>\n  <tbody>\n    <tr>\n      <th>0</th>\n      <td>1/22/20</td>\n    </tr>\n    <tr>\n      <th>1</th>\n      <td>1/23/20</td>\n    </tr>\n    <tr>\n      <th>2</th>\n      <td>1/24/20</td>\n    </tr>\n    <tr>\n      <th>3</th>\n      <td>1/25/20</td>\n    </tr>\n    <tr>\n      <th>4</th>\n      <td>1/26/20</td>\n    </tr>\n  </tbody>\n</table>\n</div>"
     },
     "execution_count": 113,
     "metadata": {},
     "output_type": "execute_result"
    }
   ],
   "source": [
    "df_plot = pd.DataFrame({ 'date': time_idx})\n",
    "df_plot.head()"
   ],
   "metadata": {
    "collapsed": false,
    "pycharm": {
     "name": "#%%\n"
    }
   }
  },
  {
   "cell_type": "code",
   "execution_count": 114,
   "outputs": [
    {
     "data": {
      "text/plain": "0                           Afghanistan\n1                               Albania\n2                               Algeria\n3                               Andorra\n4                                Angola\n5                            Antarctica\n6                   Antigua and Barbuda\n7                             Argentina\n8                               Armenia\n9                             Australia\n10                            Australia\n11                            Australia\n12                            Australia\n13                            Australia\n14                            Australia\n15                            Australia\n16                            Australia\n17                              Austria\n18                           Azerbaijan\n19                              Bahamas\n20                              Bahrain\n21                           Bangladesh\n22                             Barbados\n23                              Belarus\n24                              Belgium\n25                               Belize\n26                                Benin\n27                               Bhutan\n28                              Bolivia\n29               Bosnia and Herzegovina\n30                             Botswana\n31                               Brazil\n32                               Brunei\n33                             Bulgaria\n34                         Burkina Faso\n35                                Burma\n36                              Burundi\n37                           Cabo Verde\n38                             Cambodia\n39                             Cameroon\n40                               Canada\n41                               Canada\n42                               Canada\n43                               Canada\n44                               Canada\n45                               Canada\n46                               Canada\n47                               Canada\n48                               Canada\n49                               Canada\n50                               Canada\n51                               Canada\n52                               Canada\n53                               Canada\n54                               Canada\n55                               Canada\n56             Central African Republic\n57                                 Chad\n58                                Chile\n59                                China\n60                                China\n61                                China\n62                                China\n63                                China\n64                                China\n65                                China\n66                                China\n67                                China\n68                                China\n69                                China\n70                                China\n71                                China\n72                                China\n73                                China\n74                                China\n75                                China\n76                                China\n77                                China\n78                                China\n79                                China\n80                                China\n81                                China\n82                                China\n83                                China\n84                                China\n85                                China\n86                                China\n87                                China\n88                                China\n89                                China\n90                                China\n91                                China\n92                                China\n93                             Colombia\n94                              Comoros\n95                  Congo (Brazzaville)\n96                     Congo (Kinshasa)\n97                           Costa Rica\n98                        Cote d'Ivoire\n99                              Croatia\n100                                Cuba\n101                              Cyprus\n102                             Czechia\n103                             Denmark\n104                             Denmark\n105                             Denmark\n106                    Diamond Princess\n107                            Djibouti\n108                            Dominica\n109                  Dominican Republic\n110                             Ecuador\n111                               Egypt\n112                         El Salvador\n113                   Equatorial Guinea\n114                             Eritrea\n115                             Estonia\n116                            Eswatini\n117                            Ethiopia\n118                                Fiji\n119                             Finland\n120                              France\n121                              France\n122                              France\n123                              France\n124                              France\n125                              France\n126                              France\n127                              France\n128                              France\n129                              France\n130                              France\n131                              France\n132                               Gabon\n133                              Gambia\n134                             Georgia\n135                             Germany\n136                               Ghana\n137                              Greece\n138                             Grenada\n139                           Guatemala\n140                              Guinea\n141                       Guinea-Bissau\n142                              Guyana\n143                               Haiti\n144                            Holy See\n145                            Honduras\n146                             Hungary\n147                             Iceland\n148                               India\n149                           Indonesia\n150                                Iran\n151                                Iraq\n152                             Ireland\n153                              Israel\n154                               Italy\n155                             Jamaica\n156                               Japan\n157                              Jordan\n158                          Kazakhstan\n159                               Kenya\n160                            Kiribati\n161                        Korea, North\n162                        Korea, South\n163                              Kosovo\n164                              Kuwait\n165                          Kyrgyzstan\n166                                Laos\n167                              Latvia\n168                             Lebanon\n169                             Lesotho\n170                             Liberia\n171                               Libya\n172                       Liechtenstein\n173                           Lithuania\n174                          Luxembourg\n175                          MS Zaandam\n176                          Madagascar\n177                              Malawi\n178                            Malaysia\n179                            Maldives\n180                                Mali\n181                               Malta\n182                    Marshall Islands\n183                          Mauritania\n184                           Mauritius\n185                              Mexico\n186                          Micronesia\n187                             Moldova\n188                              Monaco\n189                            Mongolia\n190                          Montenegro\n191                             Morocco\n192                          Mozambique\n193                             Namibia\n194                               Nepal\n195                         Netherlands\n196                         Netherlands\n197                         Netherlands\n198                         Netherlands\n199                         Netherlands\n200                         New Zealand\n201                         New Zealand\n202                           Nicaragua\n203                               Niger\n204                             Nigeria\n205                     North Macedonia\n206                              Norway\n207                                Oman\n208                            Pakistan\n209                               Palau\n210                              Panama\n211                    Papua New Guinea\n212                            Paraguay\n213                                Peru\n214                         Philippines\n215                              Poland\n216                            Portugal\n217                               Qatar\n218                             Romania\n219                              Russia\n220                              Rwanda\n221               Saint Kitts and Nevis\n222                         Saint Lucia\n223    Saint Vincent and the Grenadines\n224                               Samoa\n225                          San Marino\n226               Sao Tome and Principe\n227                        Saudi Arabia\n228                             Senegal\n229                              Serbia\n230                          Seychelles\n231                        Sierra Leone\n232                           Singapore\n233                            Slovakia\n234                            Slovenia\n235                     Solomon Islands\n236                             Somalia\n237                        South Africa\n238                         South Sudan\n239                               Spain\n240                           Sri Lanka\n241                               Sudan\n242                Summer Olympics 2020\n243                            Suriname\n244                              Sweden\n245                         Switzerland\n246                               Syria\n247                             Taiwan*\n248                          Tajikistan\n249                            Tanzania\n250                            Thailand\n251                         Timor-Leste\n252                                Togo\n253                               Tonga\n254                 Trinidad and Tobago\n255                             Tunisia\n256                              Turkey\n257                                  US\n258                              Uganda\n259                             Ukraine\n260                United Arab Emirates\n261                      United Kingdom\n262                      United Kingdom\n263                      United Kingdom\n264                      United Kingdom\n265                      United Kingdom\n266                      United Kingdom\n267                      United Kingdom\n268                      United Kingdom\n269                      United Kingdom\n270                      United Kingdom\n271                      United Kingdom\n272                      United Kingdom\n273                      United Kingdom\n274                      United Kingdom\n275                             Uruguay\n276                          Uzbekistan\n277                             Vanuatu\n278                           Venezuela\n279                             Vietnam\n280                  West Bank and Gaza\n281                Winter Olympics 2022\n282                               Yemen\n283                              Zambia\n284                            Zimbabwe\nName: Country/Region, dtype: object"
     },
     "execution_count": 114,
     "metadata": {},
     "output_type": "execute_result"
    }
   ],
   "source": [
    "pd_raw['Country/Region']"
   ],
   "metadata": {
    "collapsed": false,
    "pycharm": {
     "name": "#%%\n"
    }
   }
  },
  {
   "cell_type": "code",
   "execution_count": 115,
   "outputs": [
    {
     "data": {
      "text/plain": "1/22/20    0\n1/23/20    0\n1/24/20    0\n1/25/20    0\ndtype: int64"
     },
     "execution_count": 115,
     "metadata": {},
     "output_type": "execute_result"
    }
   ],
   "source": [
    "pd_raw[pd_raw[\"Country/Region\"] == 'Germany'].iloc[:,4::].sum(axis=0)[0:4]"
   ],
   "metadata": {
    "collapsed": false,
    "pycharm": {
     "name": "#%%\n"
    }
   }
  },
  {
   "cell_type": "code",
   "execution_count": 116,
   "outputs": [
    {
     "data": {
      "text/plain": "        date     India        US   Germany\n0    1/22/20         0         1         0\n1    1/23/20         0         1         0\n2    1/24/20         0         2         0\n3    1/25/20         0         2         0\n4    1/26/20         0         5         0\n..       ...       ...       ...       ...\n850  5/21/22  43136371  83263921  26044283\n851  5/22/22  43138393  83282408  26045528\n852  5/23/22  43140068  83390587  26109965\n853  5/24/22  43142192  83501457  26159106\n854  5/25/22  43144820  83706662  26198811\n\n[855 rows x 4 columns]",
      "text/html": "<div>\n<style scoped>\n    .dataframe tbody tr th:only-of-type {\n        vertical-align: middle;\n    }\n\n    .dataframe tbody tr th {\n        vertical-align: top;\n    }\n\n    .dataframe thead th {\n        text-align: right;\n    }\n</style>\n<table border=\"1\" class=\"dataframe\">\n  <thead>\n    <tr style=\"text-align: right;\">\n      <th></th>\n      <th>date</th>\n      <th>India</th>\n      <th>US</th>\n      <th>Germany</th>\n    </tr>\n  </thead>\n  <tbody>\n    <tr>\n      <th>0</th>\n      <td>1/22/20</td>\n      <td>0</td>\n      <td>1</td>\n      <td>0</td>\n    </tr>\n    <tr>\n      <th>1</th>\n      <td>1/23/20</td>\n      <td>0</td>\n      <td>1</td>\n      <td>0</td>\n    </tr>\n    <tr>\n      <th>2</th>\n      <td>1/24/20</td>\n      <td>0</td>\n      <td>2</td>\n      <td>0</td>\n    </tr>\n    <tr>\n      <th>3</th>\n      <td>1/25/20</td>\n      <td>0</td>\n      <td>2</td>\n      <td>0</td>\n    </tr>\n    <tr>\n      <th>4</th>\n      <td>1/26/20</td>\n      <td>0</td>\n      <td>5</td>\n      <td>0</td>\n    </tr>\n    <tr>\n      <th>...</th>\n      <td>...</td>\n      <td>...</td>\n      <td>...</td>\n      <td>...</td>\n    </tr>\n    <tr>\n      <th>850</th>\n      <td>5/21/22</td>\n      <td>43136371</td>\n      <td>83263921</td>\n      <td>26044283</td>\n    </tr>\n    <tr>\n      <th>851</th>\n      <td>5/22/22</td>\n      <td>43138393</td>\n      <td>83282408</td>\n      <td>26045528</td>\n    </tr>\n    <tr>\n      <th>852</th>\n      <td>5/23/22</td>\n      <td>43140068</td>\n      <td>83390587</td>\n      <td>26109965</td>\n    </tr>\n    <tr>\n      <th>853</th>\n      <td>5/24/22</td>\n      <td>43142192</td>\n      <td>83501457</td>\n      <td>26159106</td>\n    </tr>\n    <tr>\n      <th>854</th>\n      <td>5/25/22</td>\n      <td>43144820</td>\n      <td>83706662</td>\n      <td>26198811</td>\n    </tr>\n  </tbody>\n</table>\n<p>855 rows × 4 columns</p>\n</div>"
     },
     "execution_count": 116,
     "metadata": {},
     "output_type": "execute_result"
    },
    {
     "data": {
      "text/plain": "<Figure size 432x288 with 1 Axes>",
      "image/png": "[encoded data removed]"
     },
     "metadata": {
      "needs_background": "light"
     },
     "output_type": "display_data"
    }
   ],
   "source": [
    "Country_list = [\"India\", \"US\", \"Germany\"]\n",
    "\n",
    "for each in Country_list:\n",
    "    df_plot[each]=np.array(pd_raw[pd_raw[\"Country/Region\"] == each].iloc[:,4::].sum(axis=0))\n",
    "%matplotlib inline\n",
    "df_plot.set_index('date').plot()\n",
    "df_plot"
   ],
   "metadata": {
    "collapsed": false,
    "pycharm": {
     "name": "#%%\n"
    }
   }
  },
  {
   "cell_type": "code",
   "execution_count": 48,
   "outputs": [
    {
     "data": {
      "text/plain": "'1/22/20'"
     },
     "execution_count": 48,
     "metadata": {},
     "output_type": "execute_result"
    }
   ],
   "source": [
    "df_plot.date[0]"
   ],
   "metadata": {
    "collapsed": false,
    "pycharm": {
     "name": "#%%\n"
    }
   }
  },
  {
   "cell_type": "markdown",
   "source": [],
   "metadata": {
    "collapsed": false,
    "pycharm": {
     "name": "#%% md\n"
    }
   }
  },
  {
   "cell_type": "code",
   "execution_count": 49,
   "outputs": [],
   "source": [
    "time_idx= [datetime.strptime(df_plot.date[0], \"%m/%d/%y\") for each in df_plot.date]\n",
    "time_str = [each.strftime(\"%y-%m-%d\") for each in time_idx]"
   ],
   "metadata": {
    "collapsed": false,
    "pycharm": {
     "name": "#%%\n"
    }
   }
  },
  {
   "cell_type": "code",
   "execution_count": 50,
   "outputs": [
    {
     "data": {
      "text/plain": "        date  India  US  Germany  China  France\n0 2020-01-22      0   1        0    548       0\n1 2020-01-22      0   1        0    643       0\n2 2020-01-22      0   2        0    920       2\n3 2020-01-22      0   2        0   1406       3\n4 2020-01-22      0   5        0   2075       3",
      "text/html": "<div>\n<style scoped>\n    .dataframe tbody tr th:only-of-type {\n        vertical-align: middle;\n    }\n\n    .dataframe tbody tr th {\n        vertical-align: top;\n    }\n\n    .dataframe thead th {\n        text-align: right;\n    }\n</style>\n<table border=\"1\" class=\"dataframe\">\n  <thead>\n    <tr style=\"text-align: right;\">\n      <th></th>\n      <th>date</th>\n      <th>India</th>\n      <th>US</th>\n      <th>Germany</th>\n      <th>China</th>\n      <th>France</th>\n    </tr>\n  </thead>\n  <tbody>\n    <tr>\n      <th>0</th>\n      <td>2020-01-22</td>\n      <td>0</td>\n      <td>1</td>\n      <td>0</td>\n      <td>548</td>\n      <td>0</td>\n    </tr>\n    <tr>\n      <th>1</th>\n      <td>2020-01-22</td>\n      <td>0</td>\n      <td>1</td>\n      <td>0</td>\n      <td>643</td>\n      <td>0</td>\n    </tr>\n    <tr>\n      <th>2</th>\n      <td>2020-01-22</td>\n      <td>0</td>\n      <td>2</td>\n      <td>0</td>\n      <td>920</td>\n      <td>2</td>\n    </tr>\n    <tr>\n      <th>3</th>\n      <td>2020-01-22</td>\n      <td>0</td>\n      <td>2</td>\n      <td>0</td>\n      <td>1406</td>\n      <td>3</td>\n    </tr>\n    <tr>\n      <th>4</th>\n      <td>2020-01-22</td>\n      <td>0</td>\n      <td>5</td>\n      <td>0</td>\n      <td>2075</td>\n      <td>3</td>\n    </tr>\n  </tbody>\n</table>\n</div>"
     },
     "execution_count": 50,
     "metadata": {},
     "output_type": "execute_result"
    }
   ],
   "source": [
    "df_plot[\"date\"] = time_idx\n",
    "type(df_plot[\"date\"][0])\n",
    "df_plot.head()"
   ],
   "metadata": {
    "collapsed": false,
    "pycharm": {
     "name": "#%%\n"
    }
   }
  },
  {
   "cell_type": "code",
   "execution_count": 52,
   "outputs": [],
   "source": [
    "df_plot.to_csv('../data/processed/COVID_small_flat_table.csv',sep=';')"
   ],
   "metadata": {
    "collapsed": false,
    "pycharm": {
     "name": "#%%\n"
    }
   }
  },
  {
   "cell_type": "code",
   "execution_count": 53,
   "metadata": {
    "pycharm": {
     "name": "#%%\n"
    }
   },
   "outputs": [
    {
     "data": {
      "text/plain": "  Province/State Country/Region       Lat       Long  1/22/20  1/23/20  \\\n0            NaN    Afghanistan  33.93911  67.709953        0        0   \n1            NaN        Albania  41.15330  20.168300        0        0   \n2            NaN        Algeria  28.03390   1.659600        0        0   \n3            NaN        Andorra  42.50630   1.521800        0        0   \n4            NaN         Angola -11.20270  17.873900        0        0   \n\n   1/24/20  1/25/20  1/26/20  1/27/20  ...  5/16/22  5/17/22  5/18/22  \\\n0        0        0        0        0  ...   179321   179328   179477   \n1        0        0        0        0  ...   275621   275688   275732   \n2        0        0        0        0  ...   265823   265828   265834   \n3        0        0        0        0  ...    42156    42156    42572   \n4        0        0        0        0  ...    99287    99287    99287   \n\n   5/19/22  5/20/22  5/21/22  5/22/22  5/23/22  5/24/22  5/25/22  \n0   179597   179624   179674   179716   179716   179771   179835  \n1   275732   275732   275838   275864   275881   275939   275985  \n2   265841   265847   265851   265854   265855   265860   265862  \n3    42572    42572    42572    42572    42572    42572    42894  \n4    99287    99287    99287    99287    99287    99433    99527  \n\n[5 rows x 859 columns]",
      "text/html": "<div>\n<style scoped>\n    .dataframe tbody tr th:only-of-type {\n        vertical-align: middle;\n    }\n\n    .dataframe tbody tr th {\n        vertical-align: top;\n    }\n\n    .dataframe thead th {\n        text-align: right;\n    }\n</style>\n<table border=\"1\" class=\"dataframe\">\n  <thead>\n    <tr style=\"text-align: right;\">\n      <th></th>\n      <th>Province/State</th>\n      <th>Country/Region</th>\n      <th>Lat</th>\n      <th>Long</th>\n      <th>1/22/20</th>\n      <th>1/23/20</th>\n      <th>1/24/20</th>\n      <th>1/25/20</th>\n      <th>1/26/20</th>\n      <th>1/27/20</th>\n      <th>...</th>\n      <th>5/16/22</th>\n      <th>5/17/22</th>\n      <th>5/18/22</th>\n      <th>5/19/22</th>\n      <th>5/20/22</th>\n      <th>5/21/22</th>\n      <th>5/22/22</th>\n      <th>5/23/22</th>\n      <th>5/24/22</th>\n      <th>5/25/22</th>\n    </tr>\n  </thead>\n  <tbody>\n    <tr>\n      <th>0</th>\n      <td>NaN</td>\n      <td>Afghanistan</td>\n      <td>33.93911</td>\n      <td>67.709953</td>\n      <td>0</td>\n      <td>0</td>\n      <td>0</td>\n      <td>0</td>\n      <td>0</td>\n      <td>0</td>\n      <td>...</td>\n      <td>179321</td>\n      <td>179328</td>\n      <td>179477</td>\n      <td>179597</td>\n      <td>179624</td>\n      <td>179674</td>\n      <td>179716</td>\n      <td>179716</td>\n      <td>179771</td>\n      <td>179835</td>\n    </tr>\n    <tr>\n      <th>1</th>\n      <td>NaN</td>\n      <td>Albania</td>\n      <td>41.15330</td>\n      <td>20.168300</td>\n      <td>0</td>\n      <td>0</td>\n      <td>0</td>\n      <td>0</td>\n      <td>0</td>\n      <td>0</td>\n      <td>...</td>\n      <td>275621</td>\n      <td>275688</td>\n      <td>275732</td>\n      <td>275732</td>\n      <td>275732</td>\n      <td>275838</td>\n      <td>275864</td>\n      <td>275881</td>\n      <td>275939</td>\n      <td>275985</td>\n    </tr>\n    <tr>\n      <th>2</th>\n      <td>NaN</td>\n      <td>Algeria</td>\n      <td>28.03390</td>\n      <td>1.659600</td>\n      <td>0</td>\n      <td>0</td>\n      <td>0</td>\n      <td>0</td>\n      <td>0</td>\n      <td>0</td>\n      <td>...</td>\n      <td>265823</td>\n      <td>265828</td>\n      <td>265834</td>\n      <td>265841</td>\n      <td>265847</td>\n      <td>265851</td>\n      <td>265854</td>\n      <td>265855</td>\n      <td>265860</td>\n      <td>265862</td>\n    </tr>\n    <tr>\n      <th>3</th>\n      <td>NaN</td>\n      <td>Andorra</td>\n      <td>42.50630</td>\n      <td>1.521800</td>\n      <td>0</td>\n      <td>0</td>\n      <td>0</td>\n      <td>0</td>\n      <td>0</td>\n      <td>0</td>\n      <td>...</td>\n      <td>42156</td>\n      <td>42156</td>\n      <td>42572</td>\n      <td>42572</td>\n      <td>42572</td>\n      <td>42572</td>\n      <td>42572</td>\n      <td>42572</td>\n      <td>42572</td>\n      <td>42894</td>\n    </tr>\n    <tr>\n      <th>4</th>\n      <td>NaN</td>\n      <td>Angola</td>\n      <td>-11.20270</td>\n      <td>17.873900</td>\n      <td>0</td>\n      <td>0</td>\n      <td>0</td>\n      <td>0</td>\n      <td>0</td>\n      <td>0</td>\n      <td>...</td>\n      <td>99287</td>\n      <td>99287</td>\n      <td>99287</td>\n      <td>99287</td>\n      <td>99287</td>\n      <td>99287</td>\n      <td>99287</td>\n      <td>99287</td>\n      <td>99433</td>\n      <td>99527</td>\n    </tr>\n  </tbody>\n</table>\n<p>5 rows × 859 columns</p>\n</div>"
     },
     "execution_count": 53,
     "metadata": {},
     "output_type": "execute_result"
    }
   ],
   "source": [
    "script_path = os.getcwd()\n",
    "# print(script_path)\n",
    "data_path= os.path.join(script_path, r\"..\\data\\raw\\time_series_covid19_confirmed_global.csv\")\n",
    "# print(os.listdir(data_path))\n",
    "pd_raw=pd.read_csv(data_path)\n",
    "pd_raw.head()"
   ]
  },
  {
   "cell_type": "code",
   "execution_count": 55,
   "outputs": [
    {
     "data": {
      "text/plain": "  state      country  1/22/20  1/23/20  1/24/20  1/25/20  1/26/20  1/27/20  \\\n0   NaN  Afghanistan        0        0        0        0        0        0   \n1   NaN      Albania        0        0        0        0        0        0   \n2   NaN      Algeria        0        0        0        0        0        0   \n3   NaN      Andorra        0        0        0        0        0        0   \n4   NaN       Angola        0        0        0        0        0        0   \n\n   1/28/20  1/29/20  ...  5/16/22  5/17/22  5/18/22  5/19/22  5/20/22  \\\n0        0        0  ...   179321   179328   179477   179597   179624   \n1        0        0  ...   275621   275688   275732   275732   275732   \n2        0        0  ...   265823   265828   265834   265841   265847   \n3        0        0  ...    42156    42156    42572    42572    42572   \n4        0        0  ...    99287    99287    99287    99287    99287   \n\n   5/21/22  5/22/22  5/23/22  5/24/22  5/25/22  \n0   179674   179716   179716   179771   179835  \n1   275838   275864   275881   275939   275985  \n2   265851   265854   265855   265860   265862  \n3    42572    42572    42572    42572    42894  \n4    99287    99287    99287    99433    99527  \n\n[5 rows x 857 columns]",
      "text/html": "<div>\n<style scoped>\n    .dataframe tbody tr th:only-of-type {\n        vertical-align: middle;\n    }\n\n    .dataframe tbody tr th {\n        vertical-align: top;\n    }\n\n    .dataframe thead th {\n        text-align: right;\n    }\n</style>\n<table border=\"1\" class=\"dataframe\">\n  <thead>\n    <tr style=\"text-align: right;\">\n      <th></th>\n      <th>state</th>\n      <th>country</th>\n      <th>1/22/20</th>\n      <th>1/23/20</th>\n      <th>1/24/20</th>\n      <th>1/25/20</th>\n      <th>1/26/20</th>\n      <th>1/27/20</th>\n      <th>1/28/20</th>\n      <th>1/29/20</th>\n      <th>...</th>\n      <th>5/16/22</th>\n      <th>5/17/22</th>\n      <th>5/18/22</th>\n      <th>5/19/22</th>\n      <th>5/20/22</th>\n      <th>5/21/22</th>\n      <th>5/22/22</th>\n      <th>5/23/22</th>\n      <th>5/24/22</th>\n      <th>5/25/22</th>\n    </tr>\n  </thead>\n  <tbody>\n    <tr>\n      <th>0</th>\n      <td>NaN</td>\n      <td>Afghanistan</td>\n      <td>0</td>\n      <td>0</td>\n      <td>0</td>\n      <td>0</td>\n      <td>0</td>\n      <td>0</td>\n      <td>0</td>\n      <td>0</td>\n      <td>...</td>\n      <td>179321</td>\n      <td>179328</td>\n      <td>179477</td>\n      <td>179597</td>\n      <td>179624</td>\n      <td>179674</td>\n      <td>179716</td>\n      <td>179716</td>\n      <td>179771</td>\n      <td>179835</td>\n    </tr>\n    <tr>\n      <th>1</th>\n      <td>NaN</td>\n      <td>Albania</td>\n      <td>0</td>\n      <td>0</td>\n      <td>0</td>\n      <td>0</td>\n      <td>0</td>\n      <td>0</td>\n      <td>0</td>\n      <td>0</td>\n      <td>...</td>\n      <td>275621</td>\n      <td>275688</td>\n      <td>275732</td>\n      <td>275732</td>\n      <td>275732</td>\n      <td>275838</td>\n      <td>275864</td>\n      <td>275881</td>\n      <td>275939</td>\n      <td>275985</td>\n    </tr>\n    <tr>\n      <th>2</th>\n      <td>NaN</td>\n      <td>Algeria</td>\n      <td>0</td>\n      <td>0</td>\n      <td>0</td>\n      <td>0</td>\n      <td>0</td>\n      <td>0</td>\n      <td>0</td>\n      <td>0</td>\n      <td>...</td>\n      <td>265823</td>\n      <td>265828</td>\n      <td>265834</td>\n      <td>265841</td>\n      <td>265847</td>\n      <td>265851</td>\n      <td>265854</td>\n      <td>265855</td>\n      <td>265860</td>\n      <td>265862</td>\n    </tr>\n    <tr>\n      <th>3</th>\n      <td>NaN</td>\n      <td>Andorra</td>\n      <td>0</td>\n      <td>0</td>\n      <td>0</td>\n      <td>0</td>\n      <td>0</td>\n      <td>0</td>\n      <td>0</td>\n      <td>0</td>\n      <td>...</td>\n      <td>42156</td>\n      <td>42156</td>\n      <td>42572</td>\n      <td>42572</td>\n      <td>42572</td>\n      <td>42572</td>\n      <td>42572</td>\n      <td>42572</td>\n      <td>42572</td>\n      <td>42894</td>\n    </tr>\n    <tr>\n      <th>4</th>\n      <td>NaN</td>\n      <td>Angola</td>\n      <td>0</td>\n      <td>0</td>\n      <td>0</td>\n      <td>0</td>\n      <td>0</td>\n      <td>0</td>\n      <td>0</td>\n      <td>0</td>\n      <td>...</td>\n      <td>99287</td>\n      <td>99287</td>\n      <td>99287</td>\n      <td>99287</td>\n      <td>99287</td>\n      <td>99287</td>\n      <td>99287</td>\n      <td>99287</td>\n      <td>99433</td>\n      <td>99527</td>\n    </tr>\n  </tbody>\n</table>\n<p>5 rows × 857 columns</p>\n</div>"
     },
     "execution_count": 55,
     "metadata": {},
     "output_type": "execute_result"
    }
   ],
   "source": [
    "pd_data_base= pd_raw.rename(columns={\"Country/Region\": \"country\", \"Province/State\":\"state\"})\n",
    "pd_data_base = pd_data_base.drop([\"Lat\", \"Long\"],axis=1)\n",
    "pd_data_base.head()"
   ],
   "metadata": {
    "collapsed": false,
    "pycharm": {
     "name": "#%%\n"
    }
   }
  },
  {
   "cell_type": "code",
   "execution_count": 72,
   "metadata": {
    "pycharm": {
     "name": "#%%\n"
    }
   },
   "outputs": [
    {
     "data": {
      "text/plain": "date         datetime64[ns]\nstate                object\ncountry              object\nconfirmed           float64\ndtype: object"
     },
     "execution_count": 72,
     "metadata": {},
     "output_type": "execute_result"
    }
   ],
   "source": [
    "pd_relational_data = pd_data_base.set_index([\"state\",\"country\"]).T.stack(level = [0,1]).reset_index().rename(columns = { 'level_0': 'date',0:'confirmed'})\n",
    "pd_relational_data.dtypes\n",
    "pd_relational_data['date']= pd_relational_data.date.astype('datetime64[ns]')\n",
    "pd_relational_data.dtypes"
   ]
  },
  {
   "cell_type": "code",
   "execution_count": 73,
   "metadata": {
    "pycharm": {
     "name": "#%%\n"
    }
   },
   "outputs": [],
   "source": [
    "pd_relational_data.to_csv('../data/processed/COVID_relational_confirmed.csv',sep=';')\n"
   ]
  },
  {
   "cell_type": "code",
   "execution_count": 86,
   "metadata": {
    "pycharm": {
     "name": "#%%\n"
    }
   },
   "outputs": [
    {
     "data": {
      "text/plain": "  Country_Region        Date  Doses_admin  People_partially_vaccinated  \\\n0         Canada  2020-12-14          5.0                          0.0   \n1          World  2020-12-14          5.0                          0.0   \n2         Canada  2020-12-15        723.0                          0.0   \n3          China  2020-12-15    1500000.0                          0.0   \n4         Russia  2020-12-15      28500.0                      28500.0   \n\n   People_fully_vaccinated Report_Date_String    UID Province_State  \n0                      0.0         2020-12-14  124.0            NaN  \n1                      0.0         2020-12-14    NaN            NaN  \n2                      0.0         2020-12-15  124.0            NaN  \n3                      0.0         2020-12-15  156.0            NaN  \n4                      0.0         2020-12-15  643.0            NaN  ",
      "text/html": "<div>\n<style scoped>\n    .dataframe tbody tr th:only-of-type {\n        vertical-align: middle;\n    }\n\n    .dataframe tbody tr th {\n        vertical-align: top;\n    }\n\n    .dataframe thead th {\n        text-align: right;\n    }\n</style>\n<table border=\"1\" class=\"dataframe\">\n  <thead>\n    <tr style=\"text-align: right;\">\n      <th></th>\n      <th>Country_Region</th>\n      <th>Date</th>\n      <th>Doses_admin</th>\n      <th>People_partially_vaccinated</th>\n      <th>People_fully_vaccinated</th>\n      <th>Report_Date_String</th>\n      <th>UID</th>\n      <th>Province_State</th>\n    </tr>\n  </thead>\n  <tbody>\n    <tr>\n      <th>0</th>\n      <td>Canada</td>\n      <td>2020-12-14</td>\n      <td>5.0</td>\n      <td>0.0</td>\n      <td>0.0</td>\n      <td>2020-12-14</td>\n      <td>124.0</td>\n      <td>NaN</td>\n    </tr>\n    <tr>\n      <th>1</th>\n      <td>World</td>\n      <td>2020-12-14</td>\n      <td>5.0</td>\n      <td>0.0</td>\n      <td>0.0</td>\n      <td>2020-12-14</td>\n      <td>NaN</td>\n      <td>NaN</td>\n    </tr>\n    <tr>\n      <th>2</th>\n      <td>Canada</td>\n      <td>2020-12-15</td>\n      <td>723.0</td>\n      <td>0.0</td>\n      <td>0.0</td>\n      <td>2020-12-15</td>\n      <td>124.0</td>\n      <td>NaN</td>\n    </tr>\n    <tr>\n      <th>3</th>\n      <td>China</td>\n      <td>2020-12-15</td>\n      <td>1500000.0</td>\n      <td>0.0</td>\n      <td>0.0</td>\n      <td>2020-12-15</td>\n      <td>156.0</td>\n      <td>NaN</td>\n    </tr>\n    <tr>\n      <th>4</th>\n      <td>Russia</td>\n      <td>2020-12-15</td>\n      <td>28500.0</td>\n      <td>28500.0</td>\n      <td>0.0</td>\n      <td>2020-12-15</td>\n      <td>643.0</td>\n      <td>NaN</td>\n    </tr>\n  </tbody>\n</table>\n</div>"
     },
     "execution_count": 86,
     "metadata": {},
     "output_type": "execute_result"
    }
   ],
   "source": [
    "script_path = os.getcwd()\n",
    "# print(script_path)\n",
    "data_path= os.path.join(script_path, r\"..\\data\\raw\\time_series_covid19_vaccine_global.csv\")\n",
    "# print(os.listdir(data_path))\n",
    "pd_raw=pd.read_csv(data_path)\n",
    "pd_raw.head()"
   ]
  },
  {
   "cell_type": "code",
   "execution_count": 82,
   "metadata": {
    "pycharm": {
     "name": "#%%\n"
    }
   },
   "outputs": [
    {
     "data": {
      "text/plain": "         date\n0  2020-12-12\n1  2020-12-13\n2  2020-12-14\n3  2020-12-15\n4  2020-12-16",
      "text/html": "<div>\n<style scoped>\n    .dataframe tbody tr th:only-of-type {\n        vertical-align: middle;\n    }\n\n    .dataframe tbody tr th {\n        vertical-align: top;\n    }\n\n    .dataframe thead th {\n        text-align: right;\n    }\n</style>\n<table border=\"1\" class=\"dataframe\">\n  <thead>\n    <tr style=\"text-align: right;\">\n      <th></th>\n      <th>date</th>\n    </tr>\n  </thead>\n  <tbody>\n    <tr>\n      <th>0</th>\n      <td>2020-12-12</td>\n    </tr>\n    <tr>\n      <th>1</th>\n      <td>2020-12-13</td>\n    </tr>\n    <tr>\n      <th>2</th>\n      <td>2020-12-14</td>\n    </tr>\n    <tr>\n      <th>3</th>\n      <td>2020-12-15</td>\n    </tr>\n    <tr>\n      <th>4</th>\n      <td>2020-12-16</td>\n    </tr>\n  </tbody>\n</table>\n</div>"
     },
     "execution_count": 82,
     "metadata": {},
     "output_type": "execute_result"
    }
   ],
   "source": [
    "time_idx = pd_raw.columns[12:]\n",
    "df_plot = pd.DataFrame({ 'date': time_idx})\n",
    "df_plot.head()\n",
    "\n",
    "\n"
   ]
  },
  {
   "cell_type": "code",
   "execution_count": 117,
   "outputs": [
    {
     "ename": "KeyError",
     "evalue": "'Country_Region'",
     "output_type": "error",
     "traceback": [
      "\u001B[1;31m---------------------------------------------------------------------------\u001B[0m",
      "\u001B[1;31mKeyError\u001B[0m                                  Traceback (most recent call last)",
      "File \u001B[1;32mD:\\ads_covid-19\\venv\\lib\\site-packages\\pandas\\core\\indexes\\base.py:3621\u001B[0m, in \u001B[0;36mIndex.get_loc\u001B[1;34m(self, key, method, tolerance)\u001B[0m\n\u001B[0;32m   3620\u001B[0m \u001B[38;5;28;01mtry\u001B[39;00m:\n\u001B[1;32m-> 3621\u001B[0m     \u001B[38;5;28;01mreturn\u001B[39;00m \u001B[38;5;28;43mself\u001B[39;49m\u001B[38;5;241;43m.\u001B[39;49m\u001B[43m_engine\u001B[49m\u001B[38;5;241;43m.\u001B[39;49m\u001B[43mget_loc\u001B[49m\u001B[43m(\u001B[49m\u001B[43mcasted_key\u001B[49m\u001B[43m)\u001B[49m\n\u001B[0;32m   3622\u001B[0m \u001B[38;5;28;01mexcept\u001B[39;00m \u001B[38;5;167;01mKeyError\u001B[39;00m \u001B[38;5;28;01mas\u001B[39;00m err:\n",
      "File \u001B[1;32mD:\\ads_covid-19\\venv\\lib\\site-packages\\pandas\\_libs\\index.pyx:136\u001B[0m, in \u001B[0;36mpandas._libs.index.IndexEngine.get_loc\u001B[1;34m()\u001B[0m\n",
      "File \u001B[1;32mD:\\ads_covid-19\\venv\\lib\\site-packages\\pandas\\_libs\\index.pyx:163\u001B[0m, in \u001B[0;36mpandas._libs.index.IndexEngine.get_loc\u001B[1;34m()\u001B[0m\n",
      "File \u001B[1;32mpandas\\_libs\\hashtable_class_helper.pxi:5198\u001B[0m, in \u001B[0;36mpandas._libs.hashtable.PyObjectHashTable.get_item\u001B[1;34m()\u001B[0m\n",
      "File \u001B[1;32mpandas\\_libs\\hashtable_class_helper.pxi:5206\u001B[0m, in \u001B[0;36mpandas._libs.hashtable.PyObjectHashTable.get_item\u001B[1;34m()\u001B[0m\n",
      "\u001B[1;31mKeyError\u001B[0m: 'Country_Region'",
      "\nThe above exception was the direct cause of the following exception:\n",
      "\u001B[1;31mKeyError\u001B[0m                                  Traceback (most recent call last)",
      "Input \u001B[1;32mIn [117]\u001B[0m, in \u001B[0;36m<cell line: 1>\u001B[1;34m()\u001B[0m\n\u001B[1;32m----> 1\u001B[0m pd_raw[\u001B[43mpd_raw\u001B[49m\u001B[43m[\u001B[49m\u001B[38;5;124;43m\"\u001B[39;49m\u001B[38;5;124;43mCountry_Region\u001B[39;49m\u001B[38;5;124;43m\"\u001B[39;49m\u001B[43m]\u001B[49m \u001B[38;5;241m==\u001B[39m \u001B[38;5;124m'\u001B[39m\u001B[38;5;124mGermany\u001B[39m\u001B[38;5;124m'\u001B[39m]\u001B[38;5;241m.\u001B[39miloc[:,\u001B[38;5;241m12\u001B[39m::][:]\n\u001B[0;32m      2\u001B[0m pd_raw[pd_raw[\u001B[38;5;124m\"\u001B[39m\u001B[38;5;124mCountry_Region\u001B[39m\u001B[38;5;124m\"\u001B[39m] \u001B[38;5;241m==\u001B[39m \u001B[38;5;124m'\u001B[39m\u001B[38;5;124mIndia\u001B[39m\u001B[38;5;124m'\u001B[39m]\u001B[38;5;241m.\u001B[39miloc[:,\u001B[38;5;241m12\u001B[39m::][:\u001B[38;5;241m1\u001B[39m]\n\u001B[0;32m      5\u001B[0m Country_list \u001B[38;5;241m=\u001B[39m [\u001B[38;5;124m\"\u001B[39m\u001B[38;5;124mIndia\u001B[39m\u001B[38;5;124m\"\u001B[39m, \u001B[38;5;124m\"\u001B[39m\u001B[38;5;124mUS\u001B[39m\u001B[38;5;124m\"\u001B[39m, \u001B[38;5;124m\"\u001B[39m\u001B[38;5;124mGermany\u001B[39m\u001B[38;5;124m\"\u001B[39m]\n",
      "File \u001B[1;32mD:\\ads_covid-19\\venv\\lib\\site-packages\\pandas\\core\\frame.py:3505\u001B[0m, in \u001B[0;36mDataFrame.__getitem__\u001B[1;34m(self, key)\u001B[0m\n\u001B[0;32m   3503\u001B[0m \u001B[38;5;28;01mif\u001B[39;00m \u001B[38;5;28mself\u001B[39m\u001B[38;5;241m.\u001B[39mcolumns\u001B[38;5;241m.\u001B[39mnlevels \u001B[38;5;241m>\u001B[39m \u001B[38;5;241m1\u001B[39m:\n\u001B[0;32m   3504\u001B[0m     \u001B[38;5;28;01mreturn\u001B[39;00m \u001B[38;5;28mself\u001B[39m\u001B[38;5;241m.\u001B[39m_getitem_multilevel(key)\n\u001B[1;32m-> 3505\u001B[0m indexer \u001B[38;5;241m=\u001B[39m \u001B[38;5;28;43mself\u001B[39;49m\u001B[38;5;241;43m.\u001B[39;49m\u001B[43mcolumns\u001B[49m\u001B[38;5;241;43m.\u001B[39;49m\u001B[43mget_loc\u001B[49m\u001B[43m(\u001B[49m\u001B[43mkey\u001B[49m\u001B[43m)\u001B[49m\n\u001B[0;32m   3506\u001B[0m \u001B[38;5;28;01mif\u001B[39;00m is_integer(indexer):\n\u001B[0;32m   3507\u001B[0m     indexer \u001B[38;5;241m=\u001B[39m [indexer]\n",
      "File \u001B[1;32mD:\\ads_covid-19\\venv\\lib\\site-packages\\pandas\\core\\indexes\\base.py:3623\u001B[0m, in \u001B[0;36mIndex.get_loc\u001B[1;34m(self, key, method, tolerance)\u001B[0m\n\u001B[0;32m   3621\u001B[0m     \u001B[38;5;28;01mreturn\u001B[39;00m \u001B[38;5;28mself\u001B[39m\u001B[38;5;241m.\u001B[39m_engine\u001B[38;5;241m.\u001B[39mget_loc(casted_key)\n\u001B[0;32m   3622\u001B[0m \u001B[38;5;28;01mexcept\u001B[39;00m \u001B[38;5;167;01mKeyError\u001B[39;00m \u001B[38;5;28;01mas\u001B[39;00m err:\n\u001B[1;32m-> 3623\u001B[0m     \u001B[38;5;28;01mraise\u001B[39;00m \u001B[38;5;167;01mKeyError\u001B[39;00m(key) \u001B[38;5;28;01mfrom\u001B[39;00m \u001B[38;5;21;01merr\u001B[39;00m\n\u001B[0;32m   3624\u001B[0m \u001B[38;5;28;01mexcept\u001B[39;00m \u001B[38;5;167;01mTypeError\u001B[39;00m:\n\u001B[0;32m   3625\u001B[0m     \u001B[38;5;66;03m# If we have a listlike key, _check_indexing_error will raise\u001B[39;00m\n\u001B[0;32m   3626\u001B[0m     \u001B[38;5;66;03m#  InvalidIndexError. Otherwise we fall through and re-raise\u001B[39;00m\n\u001B[0;32m   3627\u001B[0m     \u001B[38;5;66;03m#  the TypeError.\u001B[39;00m\n\u001B[0;32m   3628\u001B[0m     \u001B[38;5;28mself\u001B[39m\u001B[38;5;241m.\u001B[39m_check_indexing_error(key)\n",
      "\u001B[1;31mKeyError\u001B[0m: 'Country_Region'"
     ]
    }
   ],
   "source": [],
   "metadata": {
    "collapsed": false,
    "pycharm": {
     "name": "#%%\n"
    }
   }
  },
  {
   "cell_type": "code",
   "execution_count": null,
   "outputs": [],
   "source": [],
   "metadata": {
    "collapsed": false,
    "pycharm": {
     "name": "#%%\n"
    }
   }
  }
 ],
 "metadata": {
  "kernelspec": {
   "display_name": "Python 3",
   "language": "python",
   "name": "python3"
  },
  "language_info": {
   "codemirror_mode": {
    "name": "ipython",
    "version": 3
   },
   "file_extension": ".py",
   "mimetype": "text/x-python",
   "name": "python",
   "nbconvert_exporter": "python",
   "pygments_lexer": "ipython3",
   "version": "3.8.3"
  }
 },
 "nbformat": 4,
 "nbformat_minor": 4
}