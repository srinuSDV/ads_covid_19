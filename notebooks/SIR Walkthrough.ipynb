{
 "cells": [
  {
   "cell_type": "markdown",
   "source": [
    "# 1. Required Libraries Imports"
   ],
   "metadata": {
    "collapsed": false,
    "pycharm": {
     "name": "#%% md\n"
    }
   }
  },
  {
   "cell_type": "code",
   "execution_count": 17,
   "metadata": {
    "collapsed": true,
    "pycharm": {
     "name": "#%%\n"
    }
   },
   "outputs": [],
   "source": [
    "import dash\n",
    "import numpy as np\n",
    "dash.__version__\n",
    "import dash_core_components as dcc\n",
    "import dash_html_components as html\n",
    "from dash.dependencies import Input, Output\n",
    "import plotly.graph_objects as go\n",
    "from datetime import datetime\n",
    "import pandas as pd\n",
    "from scipy import optimize\n",
    "from scipy import integrate\n",
    "%matplotlib inline\n",
    "import matplotlib as mpl\n",
    "import seaborn as sns\n",
    "import random\n",
    "sns.set(style=\"darkgrid\")\n",
    "\n",
    "mpl.rcParams['figure.figsize'] = (16, 9)\n",
    "pd.set_option('display.max_rows', 500)"
   ]
  },
  {
   "cell_type": "markdown",
   "source": [
    "# 2. Updating and Storing John Hopkins Covid Data"
   ],
   "metadata": {
    "collapsed": false,
    "pycharm": {
     "name": "#%% md\n"
    }
   },
   "execution_count": 1
  },
  {
   "cell_type": "code",
   "execution_count": 18,
   "outputs": [
    {
     "name": "stdout",
     "output_type": "stream",
     "text": [
      "Data Acquired and Stored as COVID_small_flat_table.csv\n"
     ]
    }
   ],
   "source": [
    "def store_flat_table_JH_data():\n",
    "\n",
    "    data_path_1 = r\"https://raw.githubusercontent.com/CSSEGISandData/COVID-19/\" \\\n",
    "                  r\"master/csse_covid_19_data/csse_covid_19_time_series/time_series_covid19_confirmed_global.csv\"\n",
    "    pd_raw = pd.read_csv(data_path_1)\n",
    "    time_idx = pd_raw.columns[4:]\n",
    "    df_plot = pd.DataFrame({\"date\": time_idx})\n",
    "    Country_list = [\"Italy\", \"India\", \"US\", \"Germany\"]\n",
    "    for each in Country_list:\n",
    "        df_plot[each] = np.array(pd_raw[pd_raw[\"Country/Region\"] == each].iloc[:, 4::].sum(axis=0))\n",
    "\n",
    "    time_idx = [datetime.strptime(each, \"%m/%d/%y\") for each in df_plot.date]\n",
    "    time_str = [each.strftime('%Y-%m-%d') for each in time_idx]\n",
    "    df_plot[\"date\"] = time_idx\n",
    "    df_plot.to_csv('../data/processed/COVID_small_flat_table.csv', sep=';', index=False)\n",
    "    print(\"Data Acquired and Stored as COVID_small_flat_table.csv\")\n",
    "\n",
    "\n",
    "store_flat_table_JH_data()"
   ],
   "metadata": {
    "collapsed": false,
    "pycharm": {
     "name": "#%%\n"
    }
   }
  },
  {
   "cell_type": "markdown",
   "source": [
    "# 3. SIR Modelling"
   ],
   "metadata": {
    "collapsed": false,
    "pycharm": {
     "name": "#%% md\n"
    }
   }
  },
  {
   "cell_type": "code",
   "execution_count": 19,
   "outputs": [],
   "source": [
    "def SIR_model_t(SIR,t,beta,gamma):\n",
    "    S,I,R = SIR\n",
    "    dS_dt = -beta*S*I/N0\n",
    "    dI_dt = beta*S*I/N0-gamma*I\n",
    "    dR_dt = gamma*I\n",
    "    return dS_dt,dI_dt,dR_dt\n",
    "\n",
    "\n",
    "def slice_data(data,con):\n",
    "    ydata = np.array(data[con])\n",
    "    t = np.arange(len(ydata))\n",
    "    return ydata, t\n",
    "\n",
    "def fit_odeint(x, beta, gamma):\n",
    "    I0 = ydata[0]\n",
    "    S0 =N0 - I0\n",
    "    R0=0\n",
    "    return integrate.odeint(SIR_model_t, (S0, I0, R0), t, args=(beta, gamma))[:,1]"
   ],
   "metadata": {
    "collapsed": false,
    "pycharm": {
     "name": "#%%\n"
    }
   }
  },
  {
   "cell_type": "markdown",
   "source": [
    "# 4. Applying SIR Model for various countries"
   ],
   "metadata": {
    "collapsed": false,
    "pycharm": {
     "name": "#%% md\n"
    }
   }
  },
  {
   "cell_type": "code",
   "execution_count": 20,
   "outputs": [
    {
     "name": "stderr",
     "output_type": "stream",
     "text": [
      "E:\\Softwares\\Anaconda\\lib\\site-packages\\ipykernel_launcher.py:3: RuntimeWarning:\n",
      "\n",
      "overflow encountered in double_scalars\n",
      "\n",
      "E:\\Softwares\\Anaconda\\lib\\site-packages\\ipykernel_launcher.py:4: RuntimeWarning:\n",
      "\n",
      "overflow encountered in double_scalars\n",
      "\n",
      "E:\\Softwares\\Anaconda\\lib\\site-packages\\ipykernel_launcher.py:5: RuntimeWarning:\n",
      "\n",
      "overflow encountered in double_scalars\n",
      "\n"
     ]
    },
    {
     "name": "stdout",
     "output_type": "stream",
     "text": [
      "standard deviation errors :  [0.01405656 0.01405886]  start infect: 20\n",
      "Optimal parameters: beta = 0.5427358614782404  and gamma =  0.4143119357954698\n",
      "standard deviation errors :  [0.00739584 0.00708573]  start infect: 3\n",
      "Optimal parameters: beta = 0.5700248555164169  and gamma =  0.44961382701901825\n",
      "standard deviation errors :  [0.00428435 0.00410682]  start infect: 16\n",
      "Optimal parameters: beta = 0.2591928848922302  and gamma =  0.11097663393878249\n",
      "standard deviation errors :  [0.01529899 0.0152979 ]  start infect: 16\n",
      "Optimal parameters: beta = 0.6078025964627297  and gamma =  0.4806190436318125\n"
     ]
    }
   ],
   "source": [
    "df_analyse=pd.read_csv('../data/processed/COVID_small_flat_table.csv',sep=';')\n",
    "df_analyse=df_analyse.sort_values('date',ascending=True)\n",
    "df_analyse=df_analyse[30:140:]\n",
    "df_analyse= df_analyse.reset_index().drop([\"index\"], axis=1)\n",
    "N0 =10000000\n",
    "popt=[0.3,0.1]\n",
    "country_list= df_analyse.columns[1:]\n",
    "for each in country_list:\n",
    "    ydata, t = slice_data(df_analyse,each)\n",
    "    fit_odeint(t, *popt)\n",
    "    popt2, pcov = optimize.curve_fit(fit_odeint, t, ydata, maxfev=1000)\n",
    "    perr = np.sqrt(np.diag(pcov))\n",
    "    print('standard deviation errors : ', str(perr), ' start infect:', ydata[0])\n",
    "    print(\"Optimal parameters: beta =\", popt2[0], \" and gamma = \", popt2[1])\n",
    "    fitted=fit_odeint(t, *popt)\n",
    "    df_analyse[each+\"fit\"]= pd.DataFrame(fitted)\n",
    "\n",
    "df_analyse= df_analyse.reset_index()\n",
    "# df_analyse.head()\n"
   ],
   "metadata": {
    "collapsed": false,
    "pycharm": {
     "name": "#%%\n"
    }
   }
  },
  {
   "cell_type": "markdown",
   "source": [
    "# 5. Dynamic Visualization of SIR Curves"
   ],
   "metadata": {
    "collapsed": false,
    "pycharm": {
     "name": "#%% md\n"
    }
   }
  },
  {
   "cell_type": "code",
   "execution_count": null,
   "outputs": [
    {
     "name": "stdout",
     "output_type": "stream",
     "text": [
      "Dash is running on http://127.0.0.1:8010/\n",
      "\n",
      "Dash is running on http://127.0.0.1:8010/\n",
      "\n",
      "Dash is running on http://127.0.0.1:8010/\n",
      "\n",
      "Dash is running on http://127.0.0.1:8010/\n",
      "\n",
      "Dash is running on http://127.0.0.1:8010/\n",
      "\n",
      "Dash is running on http://127.0.0.1:8010/\n",
      "\n",
      "Dash is running on http://127.0.0.1:8010/\n",
      "\n",
      "Dash is running on http://127.0.0.1:8010/\n",
      "\n",
      "Dash is running on http://127.0.0.1:8010/\n",
      "\n",
      " * Serving Flask app \"__main__\" (lazy loading)\r\n",
      " * Environment: production\r\n",
      "   WARNING: Do not use the development server in a production environment.\r\n",
      "   Use a production WSGI server instead.\r\n",
      " * Debug mode: on\r\n"
     ]
    }
   ],
   "source": [
    "\n",
    "color_list = []\n",
    "for i in range(200):\n",
    "    var = '#%02x%02x%02x'%(random.randint(0,255),random.randint(0,255),random.randint(0,255))\n",
    "    color_list.append(var)\n",
    "\n",
    "df_input_large=df_analyse\n",
    "\n",
    "fig = go.Figure()\n",
    "app = dash.Dash()\n",
    "app.layout = html.Div([\n",
    "\n",
    "    dcc.Markdown('''\n",
    "    #  Applied Data Science on COVID-19 data\n",
    "\n",
    "    Goal of the project is to learn data science by applying a cross industry standard process,\n",
    "    it covers the full walkthrough of: automated data gathering, data transformations,\n",
    "    filtering and modelling a SIR model (Susceptible-Infected and Recovered)\n",
    "\n",
    "    '''),\n",
    "\n",
    "    dcc.Markdown('''\n",
    "    ## Multi-Select Country for Visualizing the Simulation plots\n",
    "    '''),\n",
    "\n",
    "\n",
    "    dcc.Dropdown(\n",
    "        id='country_drop_down',\n",
    "        options=[ {'label': each,'value':each} for each in df_analyse.columns[2:6]],\n",
    "        value=['India'], # which are pre-selected\n",
    "        multi=True\n",
    "    ),\n",
    "\n",
    "    dcc.Graph(figure=fig, id='main_window_slope'),\n",
    "\n",
    "\n",
    "    dcc.Markdown('''\n",
    "\n",
    "    ## What is SIR Model?\n",
    "    SIR model (susceptible-infected-removed model) is a classic approach to describing the spread of contagious diseases with immunity that represents an extension of the SI model\n",
    "\n",
    "    ![Alt Text](https://upload.wikimedia.org/wikipedia/commons/thumb/2/20/SIR_model_anim.gif/608px-SIR_model_anim.gif)\n",
    "\n",
    "    ## Assumptions of SIR Model\n",
    "    A number of assumptions are made in the SIR model:\\n\n",
    "    * 1) Each individual can be infected by a pathogen only once and then either become immune or die.\\n\n",
    "    * 2) Those infected are immediately contagious, an assumption not made in the SIR model .\\n\n",
    "    * 3) The respective rates are constant.\\n\n",
    "    * 4) Those who die from the infection become like those immunized R expected.\\n\n",
    "\n",
    "\n",
    "    ''')\n",
    "])\n",
    "\n",
    "\n",
    "\n",
    "@app.callback(\n",
    "    Output('main_window_slope', 'figure'),\n",
    "    [Input('country_drop_down', 'value')])\n",
    "\n",
    "\n",
    "def update_figure(country_list):\n",
    "\n",
    "\n",
    "    s=0\n",
    "    my_yaxis={'type':\"log\",\n",
    "              'title':'New Population Infected'\n",
    "          }\n",
    "\n",
    "\n",
    "    traces = []\n",
    "    for each in country_list:\n",
    "\n",
    "        traces.append(dict(x=df_analyse.index,\n",
    "                                y=df_analyse[each],\n",
    "                                mode='markers', markers = dict(color= color_list[s]),\n",
    "                                opacity=0.9,\n",
    "                                name=each\n",
    "                        )\n",
    "                )\n",
    "        traces.append(dict(x=df_analyse.index,\n",
    "                        y=df_analyse[each+\"fit\"],\n",
    "                        mode='lines',line = dict(color=color_list[s]), opacity=1.0,name=each+'_Fit'))\n",
    "        s= s+1\n",
    "\n",
    "    return {\n",
    "            'data': traces,\n",
    "            'layout': dict (\n",
    "                width=1280,\n",
    "                height=720,\n",
    "\n",
    "                xaxis={'title':'Timeline',\n",
    "                        'tickangle':-45,\n",
    "                        'nticks':20,\n",
    "                        'tickfont':dict(size=14,color=\"#7f7f7f\"),\n",
    "                      },\n",
    "\n",
    "                yaxis=my_yaxis\n",
    "        )\n",
    "    }\n",
    "\n",
    "if __name__ == '__main__':\n",
    "    app.run_server(debug=True, use_reloader=False, port=8010)\n"
   ],
   "metadata": {
    "collapsed": false,
    "pycharm": {
     "name": "#%%\n",
     "is_executing": true
    }
   }
  }
 ],
 "metadata": {
  "kernelspec": {
   "display_name": "Python 3",
   "language": "python",
   "name": "python3"
  },
  "language_info": {
   "codemirror_mode": {
    "name": "ipython",
    "version": 2
   },
   "file_extension": ".py",
   "mimetype": "text/x-python",
   "name": "python",
   "nbconvert_exporter": "python",
   "pygments_lexer": "ipython2",
   "version": "2.7.6"
  }
 },
 "nbformat": 4,
 "nbformat_minor": 0
}