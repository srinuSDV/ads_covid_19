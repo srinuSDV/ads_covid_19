{
 "cells": [
  {
   "cell_type": "code",
   "execution_count": 1,
   "metadata": {
    "collapsed": true,
    "pycharm": {
     "name": "#%%\n"
    }
   },
   "outputs": [],
   "source": [
    "import pandas as pd\n",
    "import numpy as np\n",
    "\n",
    "from datetime import datetime\n",
    "%matplotlib inline\n",
    "pd.set_option(\"display.max_rows\", 500)\n"
   ]
  },
  {
   "cell_type": "code",
   "execution_count": 3,
   "outputs": [],
   "source": [
    "data_path_1= r\"https://raw.githubusercontent.com/CSSEGISandData/COVID-19/master/csse_covid_19_data/csse_covid_19_time_series/time_series_covid19_confirmed_global.csv\"\n",
    "pd_raw = pd.read_csv(data_path_1)"
   ],
   "metadata": {
    "collapsed": false,
    "pycharm": {
     "name": "#%%\n"
    }
   }
  },
  {
   "cell_type": "code",
   "execution_count": 4,
   "outputs": [
    {
     "data": {
      "text/plain": "  Province/State Country/Region       Lat       Long  1/22/20  1/23/20  \\\n0            NaN    Afghanistan  33.93911  67.709953        0        0   \n1            NaN        Albania  41.15330  20.168300        0        0   \n2            NaN        Algeria  28.03390   1.659600        0        0   \n3            NaN        Andorra  42.50630   1.521800        0        0   \n4            NaN         Angola -11.20270  17.873900        0        0   \n\n   1/24/20  1/25/20  1/26/20  1/27/20   ...    6/29/22  6/30/22  7/1/22  \\\n0        0        0        0        0   ...     182403   182528  182594   \n1        0        0        0        0   ...     280298   280851  281470   \n2        0        0        0        0   ...     266073   266087  266105   \n3        0        0        0        0   ...      43774    43774   44177   \n4        0        0        0        0   ...     101320   101320  101320   \n\n   7/2/22  7/3/22  7/4/22  7/5/22  7/6/22  7/7/22  7/8/22  \n0  182643  182724  182793  182793  182979  183084  183221  \n1  282141  282690  282690  282690  283811  284758  285731  \n2  266115  266128  266173  266173  266181  266202  266228  \n3   44177   44177   44177   44177   44671   44671   44671  \n4  101320  101320  101320  101320  101320  101320  101320  \n\n[5 rows x 903 columns]",
      "text/html": "<div>\n<style scoped>\n    .dataframe tbody tr th:only-of-type {\n        vertical-align: middle;\n    }\n\n    .dataframe tbody tr th {\n        vertical-align: top;\n    }\n\n    .dataframe thead th {\n        text-align: right;\n    }\n</style>\n<table border=\"1\" class=\"dataframe\">\n  <thead>\n    <tr style=\"text-align: right;\">\n      <th></th>\n      <th>Province/State</th>\n      <th>Country/Region</th>\n      <th>Lat</th>\n      <th>Long</th>\n      <th>1/22/20</th>\n      <th>1/23/20</th>\n      <th>1/24/20</th>\n      <th>1/25/20</th>\n      <th>1/26/20</th>\n      <th>1/27/20</th>\n      <th>...</th>\n      <th>6/29/22</th>\n      <th>6/30/22</th>\n      <th>7/1/22</th>\n      <th>7/2/22</th>\n      <th>7/3/22</th>\n      <th>7/4/22</th>\n      <th>7/5/22</th>\n      <th>7/6/22</th>\n      <th>7/7/22</th>\n      <th>7/8/22</th>\n    </tr>\n  </thead>\n  <tbody>\n    <tr>\n      <th>0</th>\n      <td>NaN</td>\n      <td>Afghanistan</td>\n      <td>33.93911</td>\n      <td>67.709953</td>\n      <td>0</td>\n      <td>0</td>\n      <td>0</td>\n      <td>0</td>\n      <td>0</td>\n      <td>0</td>\n      <td>...</td>\n      <td>182403</td>\n      <td>182528</td>\n      <td>182594</td>\n      <td>182643</td>\n      <td>182724</td>\n      <td>182793</td>\n      <td>182793</td>\n      <td>182979</td>\n      <td>183084</td>\n      <td>183221</td>\n    </tr>\n    <tr>\n      <th>1</th>\n      <td>NaN</td>\n      <td>Albania</td>\n      <td>41.15330</td>\n      <td>20.168300</td>\n      <td>0</td>\n      <td>0</td>\n      <td>0</td>\n      <td>0</td>\n      <td>0</td>\n      <td>0</td>\n      <td>...</td>\n      <td>280298</td>\n      <td>280851</td>\n      <td>281470</td>\n      <td>282141</td>\n      <td>282690</td>\n      <td>282690</td>\n      <td>282690</td>\n      <td>283811</td>\n      <td>284758</td>\n      <td>285731</td>\n    </tr>\n    <tr>\n      <th>2</th>\n      <td>NaN</td>\n      <td>Algeria</td>\n      <td>28.03390</td>\n      <td>1.659600</td>\n      <td>0</td>\n      <td>0</td>\n      <td>0</td>\n      <td>0</td>\n      <td>0</td>\n      <td>0</td>\n      <td>...</td>\n      <td>266073</td>\n      <td>266087</td>\n      <td>266105</td>\n      <td>266115</td>\n      <td>266128</td>\n      <td>266173</td>\n      <td>266173</td>\n      <td>266181</td>\n      <td>266202</td>\n      <td>266228</td>\n    </tr>\n    <tr>\n      <th>3</th>\n      <td>NaN</td>\n      <td>Andorra</td>\n      <td>42.50630</td>\n      <td>1.521800</td>\n      <td>0</td>\n      <td>0</td>\n      <td>0</td>\n      <td>0</td>\n      <td>0</td>\n      <td>0</td>\n      <td>...</td>\n      <td>43774</td>\n      <td>43774</td>\n      <td>44177</td>\n      <td>44177</td>\n      <td>44177</td>\n      <td>44177</td>\n      <td>44177</td>\n      <td>44671</td>\n      <td>44671</td>\n      <td>44671</td>\n    </tr>\n    <tr>\n      <th>4</th>\n      <td>NaN</td>\n      <td>Angola</td>\n      <td>-11.20270</td>\n      <td>17.873900</td>\n      <td>0</td>\n      <td>0</td>\n      <td>0</td>\n      <td>0</td>\n      <td>0</td>\n      <td>0</td>\n      <td>...</td>\n      <td>101320</td>\n      <td>101320</td>\n      <td>101320</td>\n      <td>101320</td>\n      <td>101320</td>\n      <td>101320</td>\n      <td>101320</td>\n      <td>101320</td>\n      <td>101320</td>\n      <td>101320</td>\n    </tr>\n  </tbody>\n</table>\n<p>5 rows × 903 columns</p>\n</div>"
     },
     "execution_count": 4,
     "metadata": {},
     "output_type": "execute_result"
    }
   ],
   "source": [
    "pd_raw.head()"
   ],
   "metadata": {
    "collapsed": false,
    "pycharm": {
     "name": "#%%\n"
    }
   }
  },
  {
   "cell_type": "code",
   "execution_count": 5,
   "outputs": [],
   "source": [
    "time_idx = pd_raw.columns[4:]"
   ],
   "metadata": {
    "collapsed": false,
    "pycharm": {
     "name": "#%%\n"
    }
   }
  },
  {
   "cell_type": "code",
   "execution_count": 6,
   "outputs": [
    {
     "data": {
      "text/plain": "      date\n0  1/22/20\n1  1/23/20\n2  1/24/20\n3  1/25/20\n4  1/26/20",
      "text/html": "<div>\n<style scoped>\n    .dataframe tbody tr th:only-of-type {\n        vertical-align: middle;\n    }\n\n    .dataframe tbody tr th {\n        vertical-align: top;\n    }\n\n    .dataframe thead th {\n        text-align: right;\n    }\n</style>\n<table border=\"1\" class=\"dataframe\">\n  <thead>\n    <tr style=\"text-align: right;\">\n      <th></th>\n      <th>date</th>\n    </tr>\n  </thead>\n  <tbody>\n    <tr>\n      <th>0</th>\n      <td>1/22/20</td>\n    </tr>\n    <tr>\n      <th>1</th>\n      <td>1/23/20</td>\n    </tr>\n    <tr>\n      <th>2</th>\n      <td>1/24/20</td>\n    </tr>\n    <tr>\n      <th>3</th>\n      <td>1/25/20</td>\n    </tr>\n    <tr>\n      <th>4</th>\n      <td>1/26/20</td>\n    </tr>\n  </tbody>\n</table>\n</div>"
     },
     "execution_count": 6,
     "metadata": {},
     "output_type": "execute_result"
    }
   ],
   "source": [
    "df_plot = pd.DataFrame({\"date\": time_idx})\n",
    "df_plot.head()"
   ],
   "metadata": {
    "collapsed": false,
    "pycharm": {
     "name": "#%%\n"
    }
   }
  },
  {
   "cell_type": "code",
   "execution_count": 7,
   "outputs": [
    {
     "data": {
      "text/plain": "0                           Afghanistan\n1                               Albania\n2                               Algeria\n3                               Andorra\n4                                Angola\n5                            Antarctica\n6                   Antigua and Barbuda\n7                             Argentina\n8                               Armenia\n9                             Australia\n10                            Australia\n11                            Australia\n12                            Australia\n13                            Australia\n14                            Australia\n15                            Australia\n16                            Australia\n17                              Austria\n18                           Azerbaijan\n19                              Bahamas\n20                              Bahrain\n21                           Bangladesh\n22                             Barbados\n23                              Belarus\n24                              Belgium\n25                               Belize\n26                                Benin\n27                               Bhutan\n28                              Bolivia\n29               Bosnia and Herzegovina\n30                             Botswana\n31                               Brazil\n32                               Brunei\n33                             Bulgaria\n34                         Burkina Faso\n35                                Burma\n36                              Burundi\n37                           Cabo Verde\n38                             Cambodia\n39                             Cameroon\n40                               Canada\n41                               Canada\n42                               Canada\n43                               Canada\n44                               Canada\n45                               Canada\n46                               Canada\n47                               Canada\n48                               Canada\n49                               Canada\n50                               Canada\n51                               Canada\n52                               Canada\n53                               Canada\n54                               Canada\n55                               Canada\n56             Central African Republic\n57                                 Chad\n58                                Chile\n59                                China\n60                                China\n61                                China\n62                                China\n63                                China\n64                                China\n65                                China\n66                                China\n67                                China\n68                                China\n69                                China\n70                                China\n71                                China\n72                                China\n73                                China\n74                                China\n75                                China\n76                                China\n77                                China\n78                                China\n79                                China\n80                                China\n81                                China\n82                                China\n83                                China\n84                                China\n85                                China\n86                                China\n87                                China\n88                                China\n89                                China\n90                                China\n91                                China\n92                                China\n93                             Colombia\n94                              Comoros\n95                  Congo (Brazzaville)\n96                     Congo (Kinshasa)\n97                           Costa Rica\n98                        Cote d'Ivoire\n99                              Croatia\n100                                Cuba\n101                              Cyprus\n102                             Czechia\n103                             Denmark\n104                             Denmark\n105                             Denmark\n106                    Diamond Princess\n107                            Djibouti\n108                            Dominica\n109                  Dominican Republic\n110                             Ecuador\n111                               Egypt\n112                         El Salvador\n113                   Equatorial Guinea\n114                             Eritrea\n115                             Estonia\n116                            Eswatini\n117                            Ethiopia\n118                                Fiji\n119                             Finland\n120                              France\n121                              France\n122                              France\n123                              France\n124                              France\n125                              France\n126                              France\n127                              France\n128                              France\n129                              France\n130                              France\n131                              France\n132                               Gabon\n133                              Gambia\n134                             Georgia\n135                             Germany\n136                               Ghana\n137                              Greece\n138                             Grenada\n139                           Guatemala\n140                              Guinea\n141                       Guinea-Bissau\n142                              Guyana\n143                               Haiti\n144                            Holy See\n145                            Honduras\n146                             Hungary\n147                             Iceland\n148                               India\n149                           Indonesia\n150                                Iran\n151                                Iraq\n152                             Ireland\n153                              Israel\n154                               Italy\n155                             Jamaica\n156                               Japan\n157                              Jordan\n158                          Kazakhstan\n159                               Kenya\n160                            Kiribati\n161                        Korea, North\n162                        Korea, South\n163                              Kosovo\n164                              Kuwait\n165                          Kyrgyzstan\n166                                Laos\n167                              Latvia\n168                             Lebanon\n169                             Lesotho\n170                             Liberia\n171                               Libya\n172                       Liechtenstein\n173                           Lithuania\n174                          Luxembourg\n175                          MS Zaandam\n176                          Madagascar\n177                              Malawi\n178                            Malaysia\n179                            Maldives\n180                                Mali\n181                               Malta\n182                    Marshall Islands\n183                          Mauritania\n184                           Mauritius\n185                              Mexico\n186                          Micronesia\n187                             Moldova\n188                              Monaco\n189                            Mongolia\n190                          Montenegro\n191                             Morocco\n192                          Mozambique\n193                             Namibia\n194                               Nepal\n195                         Netherlands\n196                         Netherlands\n197                         Netherlands\n198                         Netherlands\n199                         Netherlands\n200                         New Zealand\n201                         New Zealand\n202                           Nicaragua\n203                               Niger\n204                             Nigeria\n205                     North Macedonia\n206                              Norway\n207                                Oman\n208                            Pakistan\n209                               Palau\n210                              Panama\n211                    Papua New Guinea\n212                            Paraguay\n213                                Peru\n214                         Philippines\n215                              Poland\n216                            Portugal\n217                               Qatar\n218                             Romania\n219                              Russia\n220                              Rwanda\n221               Saint Kitts and Nevis\n222                         Saint Lucia\n223    Saint Vincent and the Grenadines\n224                               Samoa\n225                          San Marino\n226               Sao Tome and Principe\n227                        Saudi Arabia\n228                             Senegal\n229                              Serbia\n230                          Seychelles\n231                        Sierra Leone\n232                           Singapore\n233                            Slovakia\n234                            Slovenia\n235                     Solomon Islands\n236                             Somalia\n237                        South Africa\n238                         South Sudan\n239                               Spain\n240                           Sri Lanka\n241                               Sudan\n242                Summer Olympics 2020\n243                            Suriname\n244                              Sweden\n245                         Switzerland\n246                               Syria\n247                             Taiwan*\n248                          Tajikistan\n249                            Tanzania\n250                            Thailand\n251                         Timor-Leste\n252                                Togo\n253                               Tonga\n254                 Trinidad and Tobago\n255                             Tunisia\n256                              Turkey\n257                                  US\n258                              Uganda\n259                             Ukraine\n260                United Arab Emirates\n261                      United Kingdom\n262                      United Kingdom\n263                      United Kingdom\n264                      United Kingdom\n265                      United Kingdom\n266                      United Kingdom\n267                      United Kingdom\n268                      United Kingdom\n269                      United Kingdom\n270                      United Kingdom\n271                      United Kingdom\n272                      United Kingdom\n273                      United Kingdom\n274                      United Kingdom\n275                             Uruguay\n276                          Uzbekistan\n277                             Vanuatu\n278                           Venezuela\n279                             Vietnam\n280                  West Bank and Gaza\n281                Winter Olympics 2022\n282                               Yemen\n283                              Zambia\n284                            Zimbabwe\nName: Country/Region, dtype: object"
     },
     "execution_count": 7,
     "metadata": {},
     "output_type": "execute_result"
    }
   ],
   "source": [
    "pd_raw[\"Country/Region\"]"
   ],
   "metadata": {
    "collapsed": false,
    "pycharm": {
     "name": "#%%\n"
    }
   }
  },
  {
   "cell_type": "code",
   "execution_count": 8,
   "outputs": [],
   "source": [
    "Country_list = [\"Italy\", \"India\", \"US\"]\n",
    "for each in Country_list:\n",
    "    df_plot[each]=np.array(pd_raw[pd_raw[\"Country/Region\"] == each].iloc[:,4::].sum(axis=0))\n",
    "\n"
   ],
   "metadata": {
    "collapsed": false,
    "pycharm": {
     "name": "#%%\n"
    }
   }
  },
  {
   "cell_type": "code",
   "execution_count": 10,
   "outputs": [],
   "source": [
    "time_idx = [datetime.strptime(each , \"%m/%d/%y\") for each in df_plot.date]\n",
    "time_str = [each.strftime('%Y-%m-%d') for each in time_idx]"
   ],
   "metadata": {
    "collapsed": false,
    "pycharm": {
     "name": "#%%\n"
    }
   }
  },
  {
   "cell_type": "code",
   "execution_count": 11,
   "outputs": [
    {
     "data": {
      "text/plain": "pandas._libs.tslibs.timestamps.Timestamp"
     },
     "execution_count": 11,
     "metadata": {},
     "output_type": "execute_result"
    }
   ],
   "source": [
    "df_plot[\"date\"]= time_idx\n",
    "type(df_plot[\"date\"][0])"
   ],
   "metadata": {
    "collapsed": false,
    "pycharm": {
     "name": "#%%\n"
    }
   }
  },
  {
   "cell_type": "code",
   "execution_count": 12,
   "outputs": [],
   "source": [
    "df_plot.to_csv('../data/processed/COVID_small_flat_table.csv',sep=';',index=False)"
   ],
   "metadata": {
    "collapsed": false,
    "pycharm": {
     "name": "#%%\n"
    }
   }
  },
  {
   "cell_type": "markdown",
   "source": [
    "# Relational Data model"
   ],
   "metadata": {
    "collapsed": false,
    "pycharm": {
     "name": "#%% md\n"
    }
   }
  },
  {
   "cell_type": "code",
   "execution_count": 13,
   "outputs": [
    {
     "data": {
      "text/plain": "  Province/State Country/Region       Lat       Long  1/22/20  1/23/20  \\\n0            NaN    Afghanistan  33.93911  67.709953        0        0   \n1            NaN        Albania  41.15330  20.168300        0        0   \n2            NaN        Algeria  28.03390   1.659600        0        0   \n3            NaN        Andorra  42.50630   1.521800        0        0   \n4            NaN         Angola -11.20270  17.873900        0        0   \n\n   1/24/20  1/25/20  1/26/20  1/27/20   ...    6/29/22  6/30/22  7/1/22  \\\n0        0        0        0        0   ...     182403   182528  182594   \n1        0        0        0        0   ...     280298   280851  281470   \n2        0        0        0        0   ...     266073   266087  266105   \n3        0        0        0        0   ...      43774    43774   44177   \n4        0        0        0        0   ...     101320   101320  101320   \n\n   7/2/22  7/3/22  7/4/22  7/5/22  7/6/22  7/7/22  7/8/22  \n0  182643  182724  182793  182793  182979  183084  183221  \n1  282141  282690  282690  282690  283811  284758  285731  \n2  266115  266128  266173  266173  266181  266202  266228  \n3   44177   44177   44177   44177   44671   44671   44671  \n4  101320  101320  101320  101320  101320  101320  101320  \n\n[5 rows x 903 columns]",
      "text/html": "<div>\n<style scoped>\n    .dataframe tbody tr th:only-of-type {\n        vertical-align: middle;\n    }\n\n    .dataframe tbody tr th {\n        vertical-align: top;\n    }\n\n    .dataframe thead th {\n        text-align: right;\n    }\n</style>\n<table border=\"1\" class=\"dataframe\">\n  <thead>\n    <tr style=\"text-align: right;\">\n      <th></th>\n      <th>Province/State</th>\n      <th>Country/Region</th>\n      <th>Lat</th>\n      <th>Long</th>\n      <th>1/22/20</th>\n      <th>1/23/20</th>\n      <th>1/24/20</th>\n      <th>1/25/20</th>\n      <th>1/26/20</th>\n      <th>1/27/20</th>\n      <th>...</th>\n      <th>6/29/22</th>\n      <th>6/30/22</th>\n      <th>7/1/22</th>\n      <th>7/2/22</th>\n      <th>7/3/22</th>\n      <th>7/4/22</th>\n      <th>7/5/22</th>\n      <th>7/6/22</th>\n      <th>7/7/22</th>\n      <th>7/8/22</th>\n    </tr>\n  </thead>\n  <tbody>\n    <tr>\n      <th>0</th>\n      <td>NaN</td>\n      <td>Afghanistan</td>\n      <td>33.93911</td>\n      <td>67.709953</td>\n      <td>0</td>\n      <td>0</td>\n      <td>0</td>\n      <td>0</td>\n      <td>0</td>\n      <td>0</td>\n      <td>...</td>\n      <td>182403</td>\n      <td>182528</td>\n      <td>182594</td>\n      <td>182643</td>\n      <td>182724</td>\n      <td>182793</td>\n      <td>182793</td>\n      <td>182979</td>\n      <td>183084</td>\n      <td>183221</td>\n    </tr>\n    <tr>\n      <th>1</th>\n      <td>NaN</td>\n      <td>Albania</td>\n      <td>41.15330</td>\n      <td>20.168300</td>\n      <td>0</td>\n      <td>0</td>\n      <td>0</td>\n      <td>0</td>\n      <td>0</td>\n      <td>0</td>\n      <td>...</td>\n      <td>280298</td>\n      <td>280851</td>\n      <td>281470</td>\n      <td>282141</td>\n      <td>282690</td>\n      <td>282690</td>\n      <td>282690</td>\n      <td>283811</td>\n      <td>284758</td>\n      <td>285731</td>\n    </tr>\n    <tr>\n      <th>2</th>\n      <td>NaN</td>\n      <td>Algeria</td>\n      <td>28.03390</td>\n      <td>1.659600</td>\n      <td>0</td>\n      <td>0</td>\n      <td>0</td>\n      <td>0</td>\n      <td>0</td>\n      <td>0</td>\n      <td>...</td>\n      <td>266073</td>\n      <td>266087</td>\n      <td>266105</td>\n      <td>266115</td>\n      <td>266128</td>\n      <td>266173</td>\n      <td>266173</td>\n      <td>266181</td>\n      <td>266202</td>\n      <td>266228</td>\n    </tr>\n    <tr>\n      <th>3</th>\n      <td>NaN</td>\n      <td>Andorra</td>\n      <td>42.50630</td>\n      <td>1.521800</td>\n      <td>0</td>\n      <td>0</td>\n      <td>0</td>\n      <td>0</td>\n      <td>0</td>\n      <td>0</td>\n      <td>...</td>\n      <td>43774</td>\n      <td>43774</td>\n      <td>44177</td>\n      <td>44177</td>\n      <td>44177</td>\n      <td>44177</td>\n      <td>44177</td>\n      <td>44671</td>\n      <td>44671</td>\n      <td>44671</td>\n    </tr>\n    <tr>\n      <th>4</th>\n      <td>NaN</td>\n      <td>Angola</td>\n      <td>-11.20270</td>\n      <td>17.873900</td>\n      <td>0</td>\n      <td>0</td>\n      <td>0</td>\n      <td>0</td>\n      <td>0</td>\n      <td>0</td>\n      <td>...</td>\n      <td>101320</td>\n      <td>101320</td>\n      <td>101320</td>\n      <td>101320</td>\n      <td>101320</td>\n      <td>101320</td>\n      <td>101320</td>\n      <td>101320</td>\n      <td>101320</td>\n      <td>101320</td>\n    </tr>\n  </tbody>\n</table>\n<p>5 rows × 903 columns</p>\n</div>"
     },
     "execution_count": 13,
     "metadata": {},
     "output_type": "execute_result"
    }
   ],
   "source": [
    "data_path_2 = r\"https://raw.githubusercontent.com/CSSEGISandData/COVID-19/master/csse_covid_19_data/csse_covid_19_time_series/time_series_covid19_confirmed_global.csv\"\n",
    "pd_raw = pd.read_csv(data_path_2)\n",
    "pd_raw.head()"
   ],
   "metadata": {
    "collapsed": false,
    "pycharm": {
     "name": "#%%\n"
    }
   }
  },
  {
   "cell_type": "code",
   "execution_count": 15,
   "outputs": [
    {
     "data": {
      "text/plain": "  state      country  1/22/20  1/23/20  1/24/20  1/25/20  1/26/20  1/27/20  \\\n0    no  Afghanistan        0        0        0        0        0        0   \n1    no      Albania        0        0        0        0        0        0   \n2    no      Algeria        0        0        0        0        0        0   \n3    no      Andorra        0        0        0        0        0        0   \n4    no       Angola        0        0        0        0        0        0   \n\n   1/28/20  1/29/20   ...    6/29/22  6/30/22  7/1/22  7/2/22  7/3/22  7/4/22  \\\n0        0        0   ...     182403   182528  182594  182643  182724  182793   \n1        0        0   ...     280298   280851  281470  282141  282690  282690   \n2        0        0   ...     266073   266087  266105  266115  266128  266173   \n3        0        0   ...      43774    43774   44177   44177   44177   44177   \n4        0        0   ...     101320   101320  101320  101320  101320  101320   \n\n   7/5/22  7/6/22  7/7/22  7/8/22  \n0  182793  182979  183084  183221  \n1  282690  283811  284758  285731  \n2  266173  266181  266202  266228  \n3   44177   44671   44671   44671  \n4  101320  101320  101320  101320  \n\n[5 rows x 901 columns]",
      "text/html": "<div>\n<style scoped>\n    .dataframe tbody tr th:only-of-type {\n        vertical-align: middle;\n    }\n\n    .dataframe tbody tr th {\n        vertical-align: top;\n    }\n\n    .dataframe thead th {\n        text-align: right;\n    }\n</style>\n<table border=\"1\" class=\"dataframe\">\n  <thead>\n    <tr style=\"text-align: right;\">\n      <th></th>\n      <th>state</th>\n      <th>country</th>\n      <th>1/22/20</th>\n      <th>1/23/20</th>\n      <th>1/24/20</th>\n      <th>1/25/20</th>\n      <th>1/26/20</th>\n      <th>1/27/20</th>\n      <th>1/28/20</th>\n      <th>1/29/20</th>\n      <th>...</th>\n      <th>6/29/22</th>\n      <th>6/30/22</th>\n      <th>7/1/22</th>\n      <th>7/2/22</th>\n      <th>7/3/22</th>\n      <th>7/4/22</th>\n      <th>7/5/22</th>\n      <th>7/6/22</th>\n      <th>7/7/22</th>\n      <th>7/8/22</th>\n    </tr>\n  </thead>\n  <tbody>\n    <tr>\n      <th>0</th>\n      <td>no</td>\n      <td>Afghanistan</td>\n      <td>0</td>\n      <td>0</td>\n      <td>0</td>\n      <td>0</td>\n      <td>0</td>\n      <td>0</td>\n      <td>0</td>\n      <td>0</td>\n      <td>...</td>\n      <td>182403</td>\n      <td>182528</td>\n      <td>182594</td>\n      <td>182643</td>\n      <td>182724</td>\n      <td>182793</td>\n      <td>182793</td>\n      <td>182979</td>\n      <td>183084</td>\n      <td>183221</td>\n    </tr>\n    <tr>\n      <th>1</th>\n      <td>no</td>\n      <td>Albania</td>\n      <td>0</td>\n      <td>0</td>\n      <td>0</td>\n      <td>0</td>\n      <td>0</td>\n      <td>0</td>\n      <td>0</td>\n      <td>0</td>\n      <td>...</td>\n      <td>280298</td>\n      <td>280851</td>\n      <td>281470</td>\n      <td>282141</td>\n      <td>282690</td>\n      <td>282690</td>\n      <td>282690</td>\n      <td>283811</td>\n      <td>284758</td>\n      <td>285731</td>\n    </tr>\n    <tr>\n      <th>2</th>\n      <td>no</td>\n      <td>Algeria</td>\n      <td>0</td>\n      <td>0</td>\n      <td>0</td>\n      <td>0</td>\n      <td>0</td>\n      <td>0</td>\n      <td>0</td>\n      <td>0</td>\n      <td>...</td>\n      <td>266073</td>\n      <td>266087</td>\n      <td>266105</td>\n      <td>266115</td>\n      <td>266128</td>\n      <td>266173</td>\n      <td>266173</td>\n      <td>266181</td>\n      <td>266202</td>\n      <td>266228</td>\n    </tr>\n    <tr>\n      <th>3</th>\n      <td>no</td>\n      <td>Andorra</td>\n      <td>0</td>\n      <td>0</td>\n      <td>0</td>\n      <td>0</td>\n      <td>0</td>\n      <td>0</td>\n      <td>0</td>\n      <td>0</td>\n      <td>...</td>\n      <td>43774</td>\n      <td>43774</td>\n      <td>44177</td>\n      <td>44177</td>\n      <td>44177</td>\n      <td>44177</td>\n      <td>44177</td>\n      <td>44671</td>\n      <td>44671</td>\n      <td>44671</td>\n    </tr>\n    <tr>\n      <th>4</th>\n      <td>no</td>\n      <td>Angola</td>\n      <td>0</td>\n      <td>0</td>\n      <td>0</td>\n      <td>0</td>\n      <td>0</td>\n      <td>0</td>\n      <td>0</td>\n      <td>0</td>\n      <td>...</td>\n      <td>101320</td>\n      <td>101320</td>\n      <td>101320</td>\n      <td>101320</td>\n      <td>101320</td>\n      <td>101320</td>\n      <td>101320</td>\n      <td>101320</td>\n      <td>101320</td>\n      <td>101320</td>\n    </tr>\n  </tbody>\n</table>\n<p>5 rows × 901 columns</p>\n</div>"
     },
     "execution_count": 15,
     "metadata": {},
     "output_type": "execute_result"
    }
   ],
   "source": [
    "pd_data_base = pd_raw.rename(columns= {\"Country/Region\": \"country\", \"Province/State\": \"state\"})\n",
    "pd_data_base[\"state\"]= pd_data_base[\"state\"].fillna(\"no\")\n",
    "pd_data_base= pd_data_base.drop([\"Lat\",\"Long\"], axis =1)\n",
    "pd_data_base.head()"
   ],
   "metadata": {
    "collapsed": false,
    "pycharm": {
     "name": "#%%\n"
    }
   }
  },
  {
   "cell_type": "code",
   "execution_count": 16,
   "outputs": [
    {
     "data": {
      "text/plain": "      date                         state         country  confirmed\n0  1/22/20                       Alberta          Canada        0.0\n1  1/22/20                      Anguilla  United Kingdom        0.0\n2  1/22/20                         Anhui           China        1.0\n3  1/22/20                         Aruba     Netherlands        0.0\n4  1/22/20  Australian Capital Territory       Australia        0.0",
      "text/html": "<div>\n<style scoped>\n    .dataframe tbody tr th:only-of-type {\n        vertical-align: middle;\n    }\n\n    .dataframe tbody tr th {\n        vertical-align: top;\n    }\n\n    .dataframe thead th {\n        text-align: right;\n    }\n</style>\n<table border=\"1\" class=\"dataframe\">\n  <thead>\n    <tr style=\"text-align: right;\">\n      <th></th>\n      <th>date</th>\n      <th>state</th>\n      <th>country</th>\n      <th>confirmed</th>\n    </tr>\n  </thead>\n  <tbody>\n    <tr>\n      <th>0</th>\n      <td>1/22/20</td>\n      <td>Alberta</td>\n      <td>Canada</td>\n      <td>0.0</td>\n    </tr>\n    <tr>\n      <th>1</th>\n      <td>1/22/20</td>\n      <td>Anguilla</td>\n      <td>United Kingdom</td>\n      <td>0.0</td>\n    </tr>\n    <tr>\n      <th>2</th>\n      <td>1/22/20</td>\n      <td>Anhui</td>\n      <td>China</td>\n      <td>1.0</td>\n    </tr>\n    <tr>\n      <th>3</th>\n      <td>1/22/20</td>\n      <td>Aruba</td>\n      <td>Netherlands</td>\n      <td>0.0</td>\n    </tr>\n    <tr>\n      <th>4</th>\n      <td>1/22/20</td>\n      <td>Australian Capital Territory</td>\n      <td>Australia</td>\n      <td>0.0</td>\n    </tr>\n  </tbody>\n</table>\n</div>"
     },
     "execution_count": 16,
     "metadata": {},
     "output_type": "execute_result"
    }
   ],
   "source": [
    "pd_relational_model=pd_data_base.set_index(['state','country']) \\\n",
    "                                .T                              \\\n",
    "                                .stack(level=[0,1])             \\\n",
    "                                .reset_index()                  \\\n",
    "                                .rename(columns={'level_0':'date',\n",
    "                                                   0:'confirmed'},\n",
    "                                                  )\n",
    "pd_relational_model.head()"
   ],
   "metadata": {
    "collapsed": false,
    "pycharm": {
     "name": "#%%\n"
    }
   }
  },
  {
   "cell_type": "code",
   "execution_count": 17,
   "outputs": [
    {
     "data": {
      "text/plain": "date          object\nstate         object\ncountry       object\nconfirmed    float64\ndtype: object"
     },
     "execution_count": 17,
     "metadata": {},
     "output_type": "execute_result"
    }
   ],
   "source": [
    "pd_relational_model.dtypes"
   ],
   "metadata": {
    "collapsed": false,
    "pycharm": {
     "name": "#%%\n"
    }
   }
  },
  {
   "cell_type": "code",
   "execution_count": 20,
   "outputs": [],
   "source": [
    "pd_relational_model[\"date\"] = pd_relational_model.date.astype(\"datetime64[ns]\")\n",
    "pd_relational_model.confirmed=pd_relational_model.confirmed.astype(int)"
   ],
   "metadata": {
    "collapsed": false,
    "pycharm": {
     "name": "#%%\n"
    }
   }
  },
  {
   "cell_type": "code",
   "execution_count": 21,
   "outputs": [],
   "source": [
    "pd_relational_model.to_csv('../data/processed/COVID_relational_confirmed.csv',sep=';',index=False)"
   ],
   "metadata": {
    "collapsed": false,
    "pycharm": {
     "name": "#%%\n"
    }
   }
  },
  {
   "cell_type": "code",
   "execution_count": null,
   "outputs": [],
   "source": [],
   "metadata": {
    "collapsed": false,
    "pycharm": {
     "name": "#%%\n"
    }
   }
  }
 ],
 "metadata": {
  "kernelspec": {
   "display_name": "Python 3",
   "language": "python",
   "name": "python3"
  },
  "language_info": {
   "codemirror_mode": {
    "name": "ipython",
    "version": 2
   },
   "file_extension": ".py",
   "mimetype": "text/x-python",
   "name": "python",
   "nbconvert_exporter": "python",
   "pygments_lexer": "ipython2",
   "version": "2.7.6"
  }
 },
 "nbformat": 4,
 "nbformat_minor": 0
}