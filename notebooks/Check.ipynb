{
 "cells": [
  {
   "cell_type": "code",
   "execution_count": 1,
   "outputs": [
    {
     "data": {
      "text/plain": "  Country_Region        Date  Doses_admin  People_partially_vaccinated  \\\n0         Canada  2020-12-14          5.0                          0.0   \n1          World  2020-12-14          5.0                          0.0   \n2         Canada  2020-12-15        723.0                          0.0   \n3          China  2020-12-15    1500000.0                          0.0   \n4         Russia  2020-12-15      28500.0                      28500.0   \n\n   People_fully_vaccinated Report_Date_String    UID Province_State  \n0                      0.0         2020-12-14  124.0            NaN  \n1                      0.0         2020-12-14    NaN            NaN  \n2                      0.0         2020-12-15  124.0            NaN  \n3                      0.0         2020-12-15  156.0            NaN  \n4                      0.0         2020-12-15  643.0            NaN  ",
      "text/html": "<div>\n<style scoped>\n    .dataframe tbody tr th:only-of-type {\n        vertical-align: middle;\n    }\n\n    .dataframe tbody tr th {\n        vertical-align: top;\n    }\n\n    .dataframe thead th {\n        text-align: right;\n    }\n</style>\n<table border=\"1\" class=\"dataframe\">\n  <thead>\n    <tr style=\"text-align: right;\">\n      <th></th>\n      <th>Country_Region</th>\n      <th>Date</th>\n      <th>Doses_admin</th>\n      <th>People_partially_vaccinated</th>\n      <th>People_fully_vaccinated</th>\n      <th>Report_Date_String</th>\n      <th>UID</th>\n      <th>Province_State</th>\n    </tr>\n  </thead>\n  <tbody>\n    <tr>\n      <th>0</th>\n      <td>Canada</td>\n      <td>2020-12-14</td>\n      <td>5.0</td>\n      <td>0.0</td>\n      <td>0.0</td>\n      <td>2020-12-14</td>\n      <td>124.0</td>\n      <td>NaN</td>\n    </tr>\n    <tr>\n      <th>1</th>\n      <td>World</td>\n      <td>2020-12-14</td>\n      <td>5.0</td>\n      <td>0.0</td>\n      <td>0.0</td>\n      <td>2020-12-14</td>\n      <td>NaN</td>\n      <td>NaN</td>\n    </tr>\n    <tr>\n      <th>2</th>\n      <td>Canada</td>\n      <td>2020-12-15</td>\n      <td>723.0</td>\n      <td>0.0</td>\n      <td>0.0</td>\n      <td>2020-12-15</td>\n      <td>124.0</td>\n      <td>NaN</td>\n    </tr>\n    <tr>\n      <th>3</th>\n      <td>China</td>\n      <td>2020-12-15</td>\n      <td>1500000.0</td>\n      <td>0.0</td>\n      <td>0.0</td>\n      <td>2020-12-15</td>\n      <td>156.0</td>\n      <td>NaN</td>\n    </tr>\n    <tr>\n      <th>4</th>\n      <td>Russia</td>\n      <td>2020-12-15</td>\n      <td>28500.0</td>\n      <td>28500.0</td>\n      <td>0.0</td>\n      <td>2020-12-15</td>\n      <td>643.0</td>\n      <td>NaN</td>\n    </tr>\n  </tbody>\n</table>\n</div>"
     },
     "execution_count": 1,
     "metadata": {},
     "output_type": "execute_result"
    }
   ],
   "source": [
    "import os\n",
    "\n",
    "import numpy as np\n",
    "import pandas as pd\n",
    "from datetime import datetime\n",
    "from pandas import date_range\n",
    "import matplotlib\n",
    "%matplotlib inline\n",
    "pd.set_option('display.max_rows', 500)\n",
    "script_path = os.getcwd()\n",
    "# print(script_path)\n",
    "data_path= os.path.join(script_path, r\"..\\data\\raw\\time_series_covid19_vaccine_global.csv\")\n",
    "# print(os.listdir(data_path))\n",
    "pd_raw_vacc=pd.read_csv(data_path, index_col=False)\n",
    "pd_raw_vacc.head()"
   ],
   "metadata": {
    "collapsed": false,
    "pycharm": {
     "name": "#%%\n"
    }
   }
  },
  {
   "cell_type": "code",
   "execution_count": 2,
   "outputs": [
    {
     "data": {
      "text/plain": "              date\n0       2020-12-14\n2       2020-12-15\n6       2020-12-16\n10      2020-12-17\n14      2020-12-18\n...            ...\n250486  2022-06-11\n251160  2022-06-12\n251834  2022-06-13\n252508  2022-06-14\n253182  2022-06-15\n\n[549 rows x 1 columns]",
      "text/html": "<div>\n<style scoped>\n    .dataframe tbody tr th:only-of-type {\n        vertical-align: middle;\n    }\n\n    .dataframe tbody tr th {\n        vertical-align: top;\n    }\n\n    .dataframe thead th {\n        text-align: right;\n    }\n</style>\n<table border=\"1\" class=\"dataframe\">\n  <thead>\n    <tr style=\"text-align: right;\">\n      <th></th>\n      <th>date</th>\n    </tr>\n  </thead>\n  <tbody>\n    <tr>\n      <th>0</th>\n      <td>2020-12-14</td>\n    </tr>\n    <tr>\n      <th>2</th>\n      <td>2020-12-15</td>\n    </tr>\n    <tr>\n      <th>6</th>\n      <td>2020-12-16</td>\n    </tr>\n    <tr>\n      <th>10</th>\n      <td>2020-12-17</td>\n    </tr>\n    <tr>\n      <th>14</th>\n      <td>2020-12-18</td>\n    </tr>\n    <tr>\n      <th>...</th>\n      <td>...</td>\n    </tr>\n    <tr>\n      <th>250486</th>\n      <td>2022-06-11</td>\n    </tr>\n    <tr>\n      <th>251160</th>\n      <td>2022-06-12</td>\n    </tr>\n    <tr>\n      <th>251834</th>\n      <td>2022-06-13</td>\n    </tr>\n    <tr>\n      <th>252508</th>\n      <td>2022-06-14</td>\n    </tr>\n    <tr>\n      <th>253182</th>\n      <td>2022-06-15</td>\n    </tr>\n  </tbody>\n</table>\n<p>549 rows × 1 columns</p>\n</div>"
     },
     "execution_count": 2,
     "metadata": {},
     "output_type": "execute_result"
    }
   ],
   "source": [
    "time_idx= pd_raw_vacc['Date'].drop_duplicates()\n",
    "df_plot = pd.DataFrame({ 'date': time_idx})\n",
    "df_plot"
   ],
   "metadata": {
    "collapsed": false,
    "pycharm": {
     "name": "#%%\n"
    }
   }
  },
  {
   "cell_type": "code",
   "execution_count": null,
   "outputs": [],
   "source": [],
   "metadata": {
    "collapsed": false,
    "pycharm": {
     "name": "#%%\n"
    }
   }
  },
  {
   "cell_type": "markdown",
   "source": [],
   "metadata": {
    "collapsed": false,
    "pycharm": {
     "name": "#%% md\n"
    }
   }
  },
  {
   "cell_type": "code",
   "execution_count": 3,
   "outputs": [
    {
     "data": {
      "text/plain": "  Province/State Country/Region       Lat       Long  1/22/20  1/23/20  \\\n0            NaN    Afghanistan  33.93911  67.709953        0        0   \n1            NaN        Albania  41.15330  20.168300        0        0   \n2            NaN        Algeria  28.03390   1.659600        0        0   \n3            NaN        Andorra  42.50630   1.521800        0        0   \n4            NaN         Angola -11.20270  17.873900        0        0   \n\n   1/24/20  1/25/20  1/26/20  1/27/20  ...  5/16/22  5/17/22  5/18/22  \\\n0        0        0        0        0  ...   179321   179328   179477   \n1        0        0        0        0  ...   275621   275688   275732   \n2        0        0        0        0  ...   265823   265828   265834   \n3        0        0        0        0  ...    42156    42156    42572   \n4        0        0        0        0  ...    99287    99287    99287   \n\n   5/19/22  5/20/22  5/21/22  5/22/22  5/23/22  5/24/22  5/25/22  \n0   179597   179624   179674   179716   179716   179771   179835  \n1   275732   275732   275838   275864   275881   275939   275985  \n2   265841   265847   265851   265854   265855   265860   265862  \n3    42572    42572    42572    42572    42572    42572    42894  \n4    99287    99287    99287    99287    99287    99433    99527  \n\n[5 rows x 859 columns]",
      "text/html": "<div>\n<style scoped>\n    .dataframe tbody tr th:only-of-type {\n        vertical-align: middle;\n    }\n\n    .dataframe tbody tr th {\n        vertical-align: top;\n    }\n\n    .dataframe thead th {\n        text-align: right;\n    }\n</style>\n<table border=\"1\" class=\"dataframe\">\n  <thead>\n    <tr style=\"text-align: right;\">\n      <th></th>\n      <th>Province/State</th>\n      <th>Country/Region</th>\n      <th>Lat</th>\n      <th>Long</th>\n      <th>1/22/20</th>\n      <th>1/23/20</th>\n      <th>1/24/20</th>\n      <th>1/25/20</th>\n      <th>1/26/20</th>\n      <th>1/27/20</th>\n      <th>...</th>\n      <th>5/16/22</th>\n      <th>5/17/22</th>\n      <th>5/18/22</th>\n      <th>5/19/22</th>\n      <th>5/20/22</th>\n      <th>5/21/22</th>\n      <th>5/22/22</th>\n      <th>5/23/22</th>\n      <th>5/24/22</th>\n      <th>5/25/22</th>\n    </tr>\n  </thead>\n  <tbody>\n    <tr>\n      <th>0</th>\n      <td>NaN</td>\n      <td>Afghanistan</td>\n      <td>33.93911</td>\n      <td>67.709953</td>\n      <td>0</td>\n      <td>0</td>\n      <td>0</td>\n      <td>0</td>\n      <td>0</td>\n      <td>0</td>\n      <td>...</td>\n      <td>179321</td>\n      <td>179328</td>\n      <td>179477</td>\n      <td>179597</td>\n      <td>179624</td>\n      <td>179674</td>\n      <td>179716</td>\n      <td>179716</td>\n      <td>179771</td>\n      <td>179835</td>\n    </tr>\n    <tr>\n      <th>1</th>\n      <td>NaN</td>\n      <td>Albania</td>\n      <td>41.15330</td>\n      <td>20.168300</td>\n      <td>0</td>\n      <td>0</td>\n      <td>0</td>\n      <td>0</td>\n      <td>0</td>\n      <td>0</td>\n      <td>...</td>\n      <td>275621</td>\n      <td>275688</td>\n      <td>275732</td>\n      <td>275732</td>\n      <td>275732</td>\n      <td>275838</td>\n      <td>275864</td>\n      <td>275881</td>\n      <td>275939</td>\n      <td>275985</td>\n    </tr>\n    <tr>\n      <th>2</th>\n      <td>NaN</td>\n      <td>Algeria</td>\n      <td>28.03390</td>\n      <td>1.659600</td>\n      <td>0</td>\n      <td>0</td>\n      <td>0</td>\n      <td>0</td>\n      <td>0</td>\n      <td>0</td>\n      <td>...</td>\n      <td>265823</td>\n      <td>265828</td>\n      <td>265834</td>\n      <td>265841</td>\n      <td>265847</td>\n      <td>265851</td>\n      <td>265854</td>\n      <td>265855</td>\n      <td>265860</td>\n      <td>265862</td>\n    </tr>\n    <tr>\n      <th>3</th>\n      <td>NaN</td>\n      <td>Andorra</td>\n      <td>42.50630</td>\n      <td>1.521800</td>\n      <td>0</td>\n      <td>0</td>\n      <td>0</td>\n      <td>0</td>\n      <td>0</td>\n      <td>0</td>\n      <td>...</td>\n      <td>42156</td>\n      <td>42156</td>\n      <td>42572</td>\n      <td>42572</td>\n      <td>42572</td>\n      <td>42572</td>\n      <td>42572</td>\n      <td>42572</td>\n      <td>42572</td>\n      <td>42894</td>\n    </tr>\n    <tr>\n      <th>4</th>\n      <td>NaN</td>\n      <td>Angola</td>\n      <td>-11.20270</td>\n      <td>17.873900</td>\n      <td>0</td>\n      <td>0</td>\n      <td>0</td>\n      <td>0</td>\n      <td>0</td>\n      <td>0</td>\n      <td>...</td>\n      <td>99287</td>\n      <td>99287</td>\n      <td>99287</td>\n      <td>99287</td>\n      <td>99287</td>\n      <td>99287</td>\n      <td>99287</td>\n      <td>99287</td>\n      <td>99433</td>\n      <td>99527</td>\n    </tr>\n  </tbody>\n</table>\n<p>5 rows × 859 columns</p>\n</div>"
     },
     "execution_count": 3,
     "metadata": {},
     "output_type": "execute_result"
    }
   ],
   "source": [
    "script_path = os.getcwd()\n",
    "# print(script_path)\n",
    "data_path= os.path.join(script_path, r\"..\\data\\raw\\time_series_covid19_confirmed_global.csv\")\n",
    "# print(os.listdir(data_path))\n",
    "pd_raw=pd.read_csv(data_path)\n",
    "pd_raw.head()"
   ],
   "metadata": {
    "collapsed": false,
    "pycharm": {
     "name": "#%%\n"
    }
   }
  },
  {
   "cell_type": "code",
   "execution_count": 3,
   "outputs": [],
   "source": [],
   "metadata": {
    "collapsed": false,
    "pycharm": {
     "name": "#%%\n"
    }
   }
  },
  {
   "cell_type": "code",
   "execution_count": 4,
   "outputs": [
    {
     "name": "stdout",
     "output_type": "stream",
     "text": [
      "              date      India         US    Germany\n",
      "0       2020-12-14   0.000000   0.000000   0.000000\n",
      "2       2020-12-15   0.000000   0.000000   0.000000\n",
      "6       2020-12-16   0.000000   0.000000   0.000000\n",
      "10      2020-12-17   0.000000   0.000000   0.000000\n",
      "14      2020-12-18   0.000000   0.000000   0.000000\n",
      "...            ...        ...        ...        ...\n",
      "250486  2022-06-11  64.454870  67.214137  77.648610\n",
      "251160  2022-06-12  64.526894  67.221918  77.648610\n",
      "251834  2022-06-13  64.588144  67.225882  77.650401\n",
      "252508  2022-06-14  64.661649  67.238153  77.652857\n",
      "253182  2022-06-15  64.731302  67.273059  77.655757\n",
      "\n",
      "[549 rows x 4 columns]\n"
     ]
    },
    {
     "data": {
      "text/plain": "<AxesSubplot:xlabel='date'>"
     },
     "execution_count": 4,
     "metadata": {},
     "output_type": "execute_result"
    },
    {
     "data": {
      "text/plain": "<Figure size 432x288 with 1 Axes>",
      "image/png": "[encoded data removed]"
     },
     "metadata": {
      "needs_background": "light"
     },
     "output_type": "display_data"
    }
   ],
   "source": [
    "\n",
    "Country_list = [\"India\", \"US\", \"Germany\"]\n",
    "\n",
    "for each in Country_list:\n",
    "    f = pd_raw_vacc[pd_raw_vacc[\"Country_Region\"] == each].iloc[:,[1,4]]\n",
    "    final =f.dropna().set_index('Date')\n",
    "    adddates= pd.date_range(df_plot.loc[0].at['date'],df_plot.iloc[-1].at['date'])\n",
    "    final.index = pd.DatetimeIndex(final.index)\n",
    "    s = final.reindex(adddates, fill_value=0)\n",
    "    df_plot[each]=np.array(s)\n",
    "\n",
    "\n",
    "df_plot['India']=df_plot['India']*(100/1393409038)\n",
    "df_plot['US']=df_plot['US']*(100/329824950)\n",
    "df_plot['Germany']=df_plot['Germany']*(100/83100000)\n",
    "\n",
    "\n",
    "\n",
    "print(df_plot)\n",
    "\n",
    "%matplotlib inline\n",
    "df_plot.set_index('date').plot()\n",
    "\n",
    "# s = final.reindex(adddates, fill_value=0)\n",
    "# s\n",
    "\n",
    "#\n",
    "#\n",
    "#     df_plot[each]=np.array(pd_raw_vacc[pd_raw_vacc[\"Country_Region\"] == each].iloc[:,4:5])\n",
    "#\n",
    "# # df_plot.set_index('date').plot()\n",
    "# df_plot"
   ],
   "metadata": {
    "collapsed": false,
    "pycharm": {
     "name": "#%%\n"
    }
   }
  },
  {
   "cell_type": "code",
   "execution_count": null,
   "outputs": [],
   "source": [],
   "metadata": {
    "collapsed": false,
    "pycharm": {
     "name": "#%%\n"
    }
   }
  }
 ],
 "metadata": {
  "kernelspec": {
   "display_name": "Python 3",
   "language": "python",
   "name": "python3"
  },
  "language_info": {
   "codemirror_mode": {
    "name": "ipython",
    "version": 2
   },
   "file_extension": ".py",
   "mimetype": "text/x-python",
   "name": "python",
   "nbconvert_exporter": "python",
   "pygments_lexer": "ipython2",
   "version": "2.7.6"
  }
 },
 "nbformat": 4,
 "nbformat_minor": 0
}